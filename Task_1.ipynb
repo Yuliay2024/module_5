{
 "cells": [
  {
   "cell_type": "markdown",
   "id": "a85207da-678a-4011-94bb-c045689d3432",
   "metadata": {},
   "source": [
    "Обучите простую рекуррентную нейронную сеть (без GRU/LSTM, без внимания) решать задачу дешифровки шифра Цезаря:\n",
    "1. Написать алгоритм шифра Цезаря для генерации выборки (сдвиг на N каждой буквы). Например если N=2, то буква A переходит в букву C. Можно поиграться с языком на выбор (немецкий, русский и т.д.)\n",
    "2. Создать архитектуру рекуррентной нейронной сети.\n",
    "3. Обучить ее (вход - зашифрованная фраза, выход - дешифрованная фраза).\n",
    "4. Проверить качество модели.\t\n",
    "\n"
   ]
  },
  {
   "cell_type": "code",
   "execution_count": 2,
   "id": "a234322d-638c-4a5f-a6ba-2434e36aff39",
   "metadata": {},
   "outputs": [],
   "source": [
    "import pandas as pd\n",
    "import time\n",
    "import torch"
   ]
  },
  {
   "cell_type": "code",
   "execution_count": 3,
   "id": "db0672d1-bc7a-4145-bbc9-54f824b500aa",
   "metadata": {},
   "outputs": [],
   "source": [
    "# Создаем алфавит\n",
    "sym_eng =  'abcdefghijklmnopqrstuvwxyz '\n",
    "N = 2"
   ]
  },
  {
   "cell_type": "markdown",
   "id": "fa375bdd-1a88-44a8-b8d9-9499b76a7d4f",
   "metadata": {},
   "source": [
    "Алгоритм шифра Цезаря"
   ]
  },
  {
   "cell_type": "code",
   "execution_count": 9,
   "id": "8980e32f-10a0-464a-922d-1ec9f7fca5df",
   "metadata": {},
   "outputs": [],
   "source": [
    "def code_cesar(text:str, key:int):\n",
    "    str_res = ''\n",
    "    for row in text:\n",
    "        for c in row:\n",
    "            if c in sym_eng:\n",
    "                ind_c = sym_eng.index(c)\n",
    "                str_res+= sym_eng[(ind_c+key)%len(sym_eng)]\n",
    "            else:\n",
    "                str_res+=c\n",
    "    return str_res\n",
    "    \n",
    "def de_code_cesar(text:str, key:int):\n",
    "     str_res = ''\n",
    "     for row in text:\n",
    "        for c in row:\n",
    "            if c in sym_eng:\n",
    "                ind_c = sym_eng.index(c)\n",
    "                str_res+= sym_eng[(ind_c-key)%len(sym_eng)]\n",
    "            else:\n",
    "                str_res+=c\n",
    "     return str_res         \n"
   ]
  },
  {
   "cell_type": "code",
   "execution_count": 11,
   "id": "7d3abee2-1464-4cda-9d31-95b123837b14",
   "metadata": {},
   "outputs": [
    {
     "data": {
      "text/plain": [
       "'ociikgbnqqmbyjcvubvjcv'"
      ]
     },
     "execution_count": 11,
     "metadata": {},
     "output_type": "execute_result"
    }
   ],
   "source": [
    "#тест\n",
    "text_test=['maggie look whats that']\n",
    "key = N\n",
    "code_cesar(text_test, N)"
   ]
  },
  {
   "cell_type": "code",
   "execution_count": 13,
   "id": "2c6d3523-529c-4c01-bb39-6e44232052f1",
   "metadata": {},
   "outputs": [],
   "source": [
    "sym_eng =  'abcdefghijklmnopqrstuvwxyz'"
   ]
  },
  {
   "cell_type": "code",
   "execution_count": 15,
   "id": "1abd33a2-9105-4f11-893c-af072521ebdf",
   "metadata": {},
   "outputs": [
    {
     "data": {
      "text/plain": [
       "'maggie look whats that'"
      ]
     },
     "execution_count": 15,
     "metadata": {},
     "output_type": "execute_result"
    }
   ],
   "source": [
    "#тест\n",
    "text_test='ociikg nqqm yjcvu vjcv'\n",
    "de_code_cesar(text_test, N)"
   ]
  },
  {
   "cell_type": "code",
   "execution_count": null,
   "id": "f92cac87-5d8c-45b9-893b-8397f37c8e6c",
   "metadata": {},
   "outputs": [],
   "source": []
  },
  {
   "cell_type": "code",
   "execution_count": 18,
   "id": "274b927b-8520-4a76-9f67-3b39a1278fd9",
   "metadata": {},
   "outputs": [
    {
     "data": {
      "text/html": [
       "<div>\n",
       "<style scoped>\n",
       "    .dataframe tbody tr th:only-of-type {\n",
       "        vertical-align: middle;\n",
       "    }\n",
       "\n",
       "    .dataframe tbody tr th {\n",
       "        vertical-align: top;\n",
       "    }\n",
       "\n",
       "    .dataframe thead th {\n",
       "        text-align: right;\n",
       "    }\n",
       "</style>\n",
       "<table border=\"1\" class=\"dataframe\">\n",
       "  <thead>\n",
       "    <tr style=\"text-align: right;\">\n",
       "      <th></th>\n",
       "      <th>Unnamed: 0</th>\n",
       "      <th>id</th>\n",
       "      <th>episode_id</th>\n",
       "      <th>number</th>\n",
       "      <th>raw_text</th>\n",
       "      <th>timestamp_in_ms</th>\n",
       "      <th>speaking_line</th>\n",
       "      <th>character_id</th>\n",
       "      <th>location_id</th>\n",
       "      <th>raw_character_text</th>\n",
       "      <th>raw_location_text</th>\n",
       "      <th>spoken_words</th>\n",
       "      <th>normalized_text</th>\n",
       "      <th>word_count</th>\n",
       "    </tr>\n",
       "  </thead>\n",
       "  <tbody>\n",
       "    <tr>\n",
       "      <th>0</th>\n",
       "      <td>0</td>\n",
       "      <td>10368</td>\n",
       "      <td>35</td>\n",
       "      <td>29</td>\n",
       "      <td>Lisa Simpson: Maggie, look. What's that?</td>\n",
       "      <td>235000</td>\n",
       "      <td>True</td>\n",
       "      <td>9</td>\n",
       "      <td>5.0</td>\n",
       "      <td>Lisa Simpson</td>\n",
       "      <td>Simpson Home</td>\n",
       "      <td>Maggie, look. What's that?</td>\n",
       "      <td>maggie look whats that</td>\n",
       "      <td>4.0</td>\n",
       "    </tr>\n",
       "    <tr>\n",
       "      <th>1</th>\n",
       "      <td>1</td>\n",
       "      <td>10369</td>\n",
       "      <td>35</td>\n",
       "      <td>30</td>\n",
       "      <td>Lisa Simpson: Lee-mur. Lee-mur.</td>\n",
       "      <td>237000</td>\n",
       "      <td>True</td>\n",
       "      <td>9</td>\n",
       "      <td>5.0</td>\n",
       "      <td>Lisa Simpson</td>\n",
       "      <td>Simpson Home</td>\n",
       "      <td>Lee-mur. Lee-mur.</td>\n",
       "      <td>lee-mur lee-mur</td>\n",
       "      <td>2.0</td>\n",
       "    </tr>\n",
       "    <tr>\n",
       "      <th>2</th>\n",
       "      <td>2</td>\n",
       "      <td>10370</td>\n",
       "      <td>35</td>\n",
       "      <td>31</td>\n",
       "      <td>Lisa Simpson: Zee-boo. Zee-boo.</td>\n",
       "      <td>239000</td>\n",
       "      <td>True</td>\n",
       "      <td>9</td>\n",
       "      <td>5.0</td>\n",
       "      <td>Lisa Simpson</td>\n",
       "      <td>Simpson Home</td>\n",
       "      <td>Zee-boo. Zee-boo.</td>\n",
       "      <td>zee-boo zee-boo</td>\n",
       "      <td>2.0</td>\n",
       "    </tr>\n",
       "    <tr>\n",
       "      <th>3</th>\n",
       "      <td>3</td>\n",
       "      <td>10372</td>\n",
       "      <td>35</td>\n",
       "      <td>33</td>\n",
       "      <td>Lisa Simpson: I'm trying to teach Maggie that ...</td>\n",
       "      <td>245000</td>\n",
       "      <td>True</td>\n",
       "      <td>9</td>\n",
       "      <td>5.0</td>\n",
       "      <td>Lisa Simpson</td>\n",
       "      <td>Simpson Home</td>\n",
       "      <td>I'm trying to teach Maggie that nature doesn't...</td>\n",
       "      <td>im trying to teach maggie that nature doesnt e...</td>\n",
       "      <td>24.0</td>\n",
       "    </tr>\n",
       "    <tr>\n",
       "      <th>4</th>\n",
       "      <td>4</td>\n",
       "      <td>10374</td>\n",
       "      <td>35</td>\n",
       "      <td>35</td>\n",
       "      <td>Lisa Simpson: It's like an ox, only it has a h...</td>\n",
       "      <td>254000</td>\n",
       "      <td>True</td>\n",
       "      <td>9</td>\n",
       "      <td>5.0</td>\n",
       "      <td>Lisa Simpson</td>\n",
       "      <td>Simpson Home</td>\n",
       "      <td>It's like an ox, only it has a hump and a dewl...</td>\n",
       "      <td>its like an ox only it has a hump and a dewlap...</td>\n",
       "      <td>18.0</td>\n",
       "    </tr>\n",
       "  </tbody>\n",
       "</table>\n",
       "</div>"
      ],
      "text/plain": [
       "   Unnamed: 0     id  episode_id  number  \\\n",
       "0           0  10368          35      29   \n",
       "1           1  10369          35      30   \n",
       "2           2  10370          35      31   \n",
       "3           3  10372          35      33   \n",
       "4           4  10374          35      35   \n",
       "\n",
       "                                            raw_text  timestamp_in_ms  \\\n",
       "0           Lisa Simpson: Maggie, look. What's that?           235000   \n",
       "1                    Lisa Simpson: Lee-mur. Lee-mur.           237000   \n",
       "2                    Lisa Simpson: Zee-boo. Zee-boo.           239000   \n",
       "3  Lisa Simpson: I'm trying to teach Maggie that ...           245000   \n",
       "4  Lisa Simpson: It's like an ox, only it has a h...           254000   \n",
       "\n",
       "   speaking_line  character_id  location_id raw_character_text  \\\n",
       "0           True             9          5.0       Lisa Simpson   \n",
       "1           True             9          5.0       Lisa Simpson   \n",
       "2           True             9          5.0       Lisa Simpson   \n",
       "3           True             9          5.0       Lisa Simpson   \n",
       "4           True             9          5.0       Lisa Simpson   \n",
       "\n",
       "  raw_location_text                                       spoken_words  \\\n",
       "0      Simpson Home                         Maggie, look. What's that?   \n",
       "1      Simpson Home                                  Lee-mur. Lee-mur.   \n",
       "2      Simpson Home                                  Zee-boo. Zee-boo.   \n",
       "3      Simpson Home  I'm trying to teach Maggie that nature doesn't...   \n",
       "4      Simpson Home  It's like an ox, only it has a hump and a dewl...   \n",
       "\n",
       "                                     normalized_text  word_count  \n",
       "0                             maggie look whats that         4.0  \n",
       "1                                    lee-mur lee-mur         2.0  \n",
       "2                                    zee-boo zee-boo         2.0  \n",
       "3  im trying to teach maggie that nature doesnt e...        24.0  \n",
       "4  its like an ox only it has a hump and a dewlap...        18.0  "
      ]
     },
     "execution_count": 18,
     "metadata": {},
     "output_type": "execute_result"
    }
   ],
   "source": [
    "df = pd.read_csv('D:/файлы/data.csv')\n",
    "df.head()"
   ]
  },
  {
   "cell_type": "code",
   "execution_count": null,
   "id": "c9403322-eac7-4e85-ab16-eee10e5f5eab",
   "metadata": {},
   "outputs": [],
   "source": []
  },
  {
   "cell_type": "code",
   "execution_count": 30,
   "id": "65f57123-68a4-4ade-bb90-67293663d629",
   "metadata": {},
   "outputs": [
    {
     "data": {
      "text/plain": [
       "['maggie look whats that',\n",
       " 'lee-mur lee-mur',\n",
       " 'zee-boo zee-boo',\n",
       " 'im trying to teach maggie that nature doesnt end with the barnyard i want her to have all the advantages that i didnt have',\n",
       " 'its like an ox only it has a hump and a dewlap hump and dew-lap hump and dew-lap']"
      ]
     },
     "execution_count": 30,
     "metadata": {},
     "output_type": "execute_result"
    }
   ],
   "source": [
    "#создаем корпус - phrases, состоящий из документов - text\n",
    "phrases = df['normalized_text'].tolist()\n",
    "phrases[:5]"
   ]
  },
  {
   "cell_type": "code",
   "execution_count": null,
   "id": "ad1d5bdc-3443-40c4-9bbd-6315dda21e79",
   "metadata": {},
   "outputs": [],
   "source": []
  },
  {
   "cell_type": "code",
   "execution_count": 33,
   "id": "03226e54-6617-4e93-b5a0-d210e43a908a",
   "metadata": {},
   "outputs": [],
   "source": [
    "#проходим по фразе, проверяем, что строка, разбиваем на буквы\n",
    "#применяем функцию шифрования\n",
    "text_code = [[code_cesar(c, N) for c in ph] for ph in phrases if type(ph) is str]"
   ]
  },
  {
   "cell_type": "code",
   "execution_count": 34,
   "id": "ed7c13bf-5d5d-4e5d-8f63-a32f5ea68d5d",
   "metadata": {},
   "outputs": [
    {
     "data": {
      "text/plain": [
       "['b', 'g', 'g', '-', 'd', 'q', 'q', ' ', 'b', 'g', 'g', '-', 'd', 'q', 'q']"
      ]
     },
     "execution_count": 34,
     "metadata": {},
     "output_type": "execute_result"
    }
   ],
   "source": [
    "text_code[2]"
   ]
  },
  {
   "cell_type": "code",
   "execution_count": 41,
   "id": "5b606d1a-81ad-4922-bc95-93d5f1586163",
   "metadata": {},
   "outputs": [],
   "source": [
    "#дешифрованная фраза, то что должны получить на выходе\n",
    "text = [[c for c in ph] for ph in phrases if type(ph) is str]"
   ]
  },
  {
   "cell_type": "code",
   "execution_count": 43,
   "id": "aa7c0d1e-42f0-486c-acec-5fa5c93ceeb9",
   "metadata": {},
   "outputs": [
    {
     "data": {
      "text/plain": [
       "['z', 'e', 'e', '-', 'b', 'o', 'o', ' ', 'z', 'e', 'e', '-', 'b', 'o', 'o']"
      ]
     },
     "execution_count": 43,
     "metadata": {},
     "output_type": "execute_result"
    }
   ],
   "source": [
    "text[2]"
   ]
  },
  {
   "cell_type": "code",
   "execution_count": null,
   "id": "f268b65e-d34e-4fa2-912d-6d4288c00d04",
   "metadata": {},
   "outputs": [],
   "source": [
    "\n"
   ]
  },
  {
   "cell_type": "markdown",
   "id": "f8604638-4bd7-44d7-9093-9691e430f0ee",
   "metadata": {},
   "source": [
    "Создаем словарь, где ключи - это символы, из которых состояит алфавит, и значения уникальный индекс.\n",
    "Добавляем None в набор ключей для непредвиденный ситуаций."
   ]
  },
  {
   "cell_type": "code",
   "execution_count": 47,
   "id": "213fdf49-50c0-4927-a8bd-2bc419a2ec05",
   "metadata": {},
   "outputs": [],
   "source": [
    "CHARS = set('abcdefghijklmnopqrstuvwxyz ')\n",
    "INDEX_TO_CHAR = ['none'] + [w for w in CHARS]\n",
    "CHAR_TO_INDEX = {w: i for i, w in enumerate(INDEX_TO_CHAR)}"
   ]
  },
  {
   "cell_type": "code",
   "execution_count": 49,
   "id": "63f9be13-61a9-4e52-ae57-5c146abf5f8a",
   "metadata": {},
   "outputs": [
    {
     "data": {
      "text/plain": [
       "28"
      ]
     },
     "execution_count": 49,
     "metadata": {},
     "output_type": "execute_result"
    }
   ],
   "source": [
    "len(INDEX_TO_CHAR)"
   ]
  },
  {
   "cell_type": "code",
   "execution_count": 51,
   "id": "3afe393c-2a0c-400c-b9dc-e62972e1e921",
   "metadata": {},
   "outputs": [
    {
     "data": {
      "text/plain": [
       "{'none': 0,\n",
       " 'v': 1,\n",
       " 'r': 2,\n",
       " 'i': 3,\n",
       " 'n': 4,\n",
       " ' ': 5,\n",
       " 'u': 6,\n",
       " 'o': 7,\n",
       " 'b': 8,\n",
       " 'c': 9,\n",
       " 's': 10,\n",
       " 'k': 11,\n",
       " 'z': 12,\n",
       " 'a': 13,\n",
       " 'm': 14,\n",
       " 'd': 15,\n",
       " 'y': 16,\n",
       " 'e': 17,\n",
       " 'j': 18,\n",
       " 'h': 19,\n",
       " 'x': 20,\n",
       " 'g': 21,\n",
       " 'p': 22,\n",
       " 'l': 23,\n",
       " 'q': 24,\n",
       " 't': 25,\n",
       " 'w': 26,\n",
       " 'f': 27}"
      ]
     },
     "execution_count": 51,
     "metadata": {},
     "output_type": "execute_result"
    }
   ],
   "source": [
    "CHAR_TO_INDEX"
   ]
  },
  {
   "cell_type": "code",
   "execution_count": 53,
   "id": "91bf0a3e-36c6-452e-a49b-c134f8e97c25",
   "metadata": {},
   "outputs": [],
   "source": [
    "#задаем max длину, так как не можем работать с векторами разной длины - MAX_LEN\n",
    "# создаем тензор с 0 размером нашей выборки и задаем макс длину\n",
    "# проходим по документу и где длина менее MAX_LEN заполняем нулями\n",
    "# i элемент текста (sample), j -элемент sample"
   ]
  },
  {
   "cell_type": "code",
   "execution_count": 55,
   "id": "96af98d9-470e-417b-932e-3629d04c4206",
   "metadata": {},
   "outputs": [],
   "source": [
    "MAX_LEN = 50\n",
    "X = torch.zeros((len(text_code), MAX_LEN), dtype = int)\n",
    "\n",
    "for i in range(len(text_code)):\n",
    "\tfor j, w in enumerate(text_code[i]):\n",
    "\t\tif j >= MAX_LEN:\n",
    "\t\t\tbreak\n",
    "\t\tX[i, j] = CHAR_TO_INDEX.get(w, CHAR_TO_INDEX['none'])"
   ]
  },
  {
   "cell_type": "code",
   "execution_count": 56,
   "id": "1e331fbe-b7bd-4afa-825f-99ff2019329b",
   "metadata": {},
   "outputs": [
    {
     "data": {
      "text/plain": [
       "tensor([[ 7,  9,  3,  3, 11, 21,  5,  4, 24, 24, 14,  5, 16, 18,  9,  1,  6,  5,\n",
       "          1, 18,  9,  1,  0,  0,  0,  0,  0,  0,  0,  0,  0,  0,  0,  0,  0,  0,\n",
       "          0,  0,  0,  0,  0,  0,  0,  0,  0,  0,  0,  0,  0,  0],\n",
       "        [ 4, 21, 21,  0,  7, 26, 25,  5,  4, 21, 21,  0,  7, 26, 25,  0,  0,  0,\n",
       "          0,  0,  0,  0,  0,  0,  0,  0,  0,  0,  0,  0,  0,  0,  0,  0,  0,  0,\n",
       "          0,  0,  0,  0,  0,  0,  0,  0,  0,  0,  0,  0,  0,  0],\n",
       "        [ 8, 21, 21,  0, 15, 24, 24,  5,  8, 21, 21,  0, 15, 24, 24,  0,  0,  0,\n",
       "          0,  0,  0,  0,  0,  0,  0,  0,  0,  0,  0,  0,  0,  0,  0,  0,  0,  0,\n",
       "          0,  0,  0,  0,  0,  0,  0,  0,  0,  0,  0,  0,  0,  0],\n",
       "        [11,  7,  5,  1, 25, 13, 11, 22,  3,  5,  1, 24,  5,  1, 21,  9, 17, 18,\n",
       "          5,  7,  9,  3,  3, 11, 21,  5,  1, 18,  9,  1,  5, 22,  9,  1, 26, 25,\n",
       "         21,  5, 27, 24, 21,  6, 22,  1,  5, 21, 22, 27,  5, 16],\n",
       "        [11,  1,  6,  5,  4, 11, 14, 21,  5,  9, 22,  5, 24, 12,  5, 24, 22,  4,\n",
       "         13,  5, 11,  1,  5, 18,  9,  6,  5,  9,  5, 18, 26,  7,  2,  5,  9, 22,\n",
       "         27,  5,  9,  5, 27, 21, 16,  4,  9,  2,  5, 18, 26,  7]])"
      ]
     },
     "execution_count": 56,
     "metadata": {},
     "output_type": "execute_result"
    }
   ],
   "source": [
    "X[:5]"
   ]
  },
  {
   "cell_type": "code",
   "execution_count": 61,
   "id": "bda80dc2-fdae-4eb4-b5c0-4a030af7a556",
   "metadata": {},
   "outputs": [
    {
     "data": {
      "text/plain": [
       "torch.Size([10891, 50])"
      ]
     },
     "execution_count": 61,
     "metadata": {},
     "output_type": "execute_result"
    }
   ],
   "source": [
    "X.shape"
   ]
  },
  {
   "cell_type": "code",
   "execution_count": 63,
   "id": "be8e57c1-4792-4032-bc52-1d7d4f1e695c",
   "metadata": {},
   "outputs": [],
   "source": [
    "MAX_LEN = 50\n",
    "Y = torch.zeros((len(text), MAX_LEN), dtype = int)\n",
    "\n",
    "for i in range(len(text)):\n",
    "\tfor j, w in enumerate(text[i]):\n",
    "\t\tif j >= MAX_LEN:\n",
    "\t\t\tbreak\n",
    "\t\tY[i, j] = CHAR_TO_INDEX.get(w, CHAR_TO_INDEX['none'])"
   ]
  },
  {
   "cell_type": "code",
   "execution_count": 64,
   "id": "7afb54d1-a5f5-41f6-942f-7e3e480872f7",
   "metadata": {},
   "outputs": [
    {
     "data": {
      "text/plain": [
       "torch.Size([10891, 50])"
      ]
     },
     "execution_count": 64,
     "metadata": {},
     "output_type": "execute_result"
    }
   ],
   "source": [
    "Y.shape"
   ]
  },
  {
   "cell_type": "code",
   "execution_count": 67,
   "id": "8c594844-9501-40dc-b33c-472990bb9c13",
   "metadata": {},
   "outputs": [
    {
     "data": {
      "text/plain": [
       "tensor([[14, 13, 21, 21,  3, 17,  5, 23,  7,  7, 11,  5, 26, 19, 13, 25, 10,  5,\n",
       "         25, 19, 13, 25,  0,  0,  0,  0,  0,  0,  0,  0,  0,  0,  0,  0,  0,  0,\n",
       "          0,  0,  0,  0,  0,  0,  0,  0,  0,  0,  0,  0,  0,  0],\n",
       "        [23, 17, 17,  0, 14,  6,  2,  5, 23, 17, 17,  0, 14,  6,  2,  0,  0,  0,\n",
       "          0,  0,  0,  0,  0,  0,  0,  0,  0,  0,  0,  0,  0,  0,  0,  0,  0,  0,\n",
       "          0,  0,  0,  0,  0,  0,  0,  0,  0,  0,  0,  0,  0,  0],\n",
       "        [12, 17, 17,  0,  8,  7,  7,  5, 12, 17, 17,  0,  8,  7,  7,  0,  0,  0,\n",
       "          0,  0,  0,  0,  0,  0,  0,  0,  0,  0,  0,  0,  0,  0,  0,  0,  0,  0,\n",
       "          0,  0,  0,  0,  0,  0,  0,  0,  0,  0,  0,  0,  0,  0],\n",
       "        [ 3, 14,  5, 25,  2, 16,  3,  4, 21,  5, 25,  7,  5, 25, 17, 13,  9, 19,\n",
       "          5, 14, 13, 21, 21,  3, 17,  5, 25, 19, 13, 25,  5,  4, 13, 25,  6,  2,\n",
       "         17,  5, 15,  7, 17, 10,  4, 25,  5, 17,  4, 15,  5, 26],\n",
       "        [ 3, 25, 10,  5, 23,  3, 11, 17,  5, 13,  4,  5,  7, 20,  5,  7,  4, 23,\n",
       "         16,  5,  3, 25,  5, 19, 13, 10,  5, 13,  5, 19,  6, 14, 22,  5, 13,  4,\n",
       "         15,  5, 13,  5, 15, 17, 26, 23, 13, 22,  5, 19,  6, 14]])"
      ]
     },
     "execution_count": 67,
     "metadata": {},
     "output_type": "execute_result"
    }
   ],
   "source": [
    "Y[:5]"
   ]
  },
  {
   "cell_type": "code",
   "execution_count": 72,
   "id": "2d7a3213-ff07-4111-baff-4e9c52dc6b1d",
   "metadata": {},
   "outputs": [],
   "source": [
    "# делим на train/test\n",
    "num_trn = int(0.75*len(X))                \n",
    "X_trn, Y_trn = X[:num_trn], Y[:num_trn]\n",
    "X_test, Y_test = X[num_trn:], Y[num_trn:]"
   ]
  },
  {
   "cell_type": "markdown",
   "id": "a91d01c0-afb4-4968-a6ed-f0a11a938bc8",
   "metadata": {},
   "source": [
    "Модель нейронной сети:\n",
    "1.Embedding 30\n",
    "2.Скрытая ячейка - 128\n",
    "3. Полносвязный слой из состояния rnn в букву"
   ]
  },
  {
   "cell_type": "code",
   "execution_count": 75,
   "id": "b8f90c76-302a-453b-9ea4-c55410c7813e",
   "metadata": {},
   "outputs": [],
   "source": [
    "class RNNModel(torch.nn.Module):\n",
    "    \n",
    "    def __init__(self):\n",
    "        super().__init__()\n",
    "        self.embed = torch.nn.Embedding(len(INDEX_TO_CHAR) + N, 32)\n",
    "        self.rnn = torch.nn.RNN(32, 128, batch_first=True)\n",
    "        self.linear = torch.nn.Linear(128, len(INDEX_TO_CHAR) + N)\n",
    "\n",
    "    def forward(self, sentence, state=None):\n",
    "        embed = self.embed(sentence)\n",
    "        o, h = self.rnn(embed)\n",
    "        return self.linear(o)"
   ]
  },
  {
   "cell_type": "code",
   "execution_count": 55,
   "id": "f16496cb-3d98-4e0f-8396-abefad24088d",
   "metadata": {},
   "outputs": [],
   "source": [
    "model = RNNModel()\n",
    "loss = torch.nn.CrossEntropyLoss()\n",
    "optimizer = torch.optim.SGD(model.parameters(), lr=0.5)"
   ]
  },
  {
   "cell_type": "markdown",
   "id": "7af1bdbf-aa2d-471b-bc48-798f38c7a37b",
   "metadata": {},
   "source": [
    "Обучение модели на 20 эпохах"
   ]
  },
  {
   "cell_type": "code",
   "execution_count": 57,
   "id": "5f84971c-11d8-4c6d-947a-feb35dff8fe0",
   "metadata": {},
   "outputs": [
    {
     "name": "stdout",
     "output_type": "stream",
     "text": [
      "Epoch: 0, loss: 25.3414, acc: 0.9556 | Epoch: 1, loss: 1.9452, acc: 0.9980 | Epoch: 2, loss: 1.0299, acc: 0.9986 | Epoch: 3, loss: 0.6893, acc: 0.9995 | Epoch: 4, loss: 0.5054, acc: 0.9996 | Epoch: 5, loss: 0.3919, acc: 0.9996 | Epoch: 6, loss: 0.3160, acc: 0.9996 | Epoch: 7, loss: 0.2620, acc: 0.9997 | Epoch: 8, loss: 0.2217, acc: 0.9999 | Epoch: 9, loss: 0.1907, acc: 1.0000 | Epoch: 10, loss: 0.1665, acc: 1.0000 | Epoch: 11, loss: 0.1472, acc: 1.0000 | Epoch: 12, loss: 0.1316, acc: 1.0000 | Epoch: 13, loss: 0.1188, acc: 1.0000 | Epoch: 14, loss: 0.1081, acc: 1.0000 | Epoch: 15, loss: 0.0992, acc: 1.0000 | Epoch: 16, loss: 0.0915, acc: 1.0000 | Epoch: 17, loss: 0.0849, acc: 1.0000 | Epoch: 18, loss: 0.0792, acc: 1.0000 | Epoch: 19, loss: 0.0742, acc: 1.0000 | "
     ]
    }
   ],
   "source": [
    "for epoch in range(20):\n",
    "    train_loss, train_acc, iter_num = .0, .0, .0\n",
    "    start_epoch_time = time.time()\n",
    "    model.train()\n",
    "    for i in range(int(len(X_trn) / 100)):\n",
    "        batch = X_trn[i * 100:(i + 1) * 100]\n",
    "        X_trn_batch = batch\n",
    "        Y_trn_batch = Y[i * 100:(i + 1) * 100]\n",
    "        Y_trn_batch = Y_trn_batch.view(1, -1).squeeze()\n",
    "        optimizer.zero_grad() \n",
    "        out = model.forward(X_trn_batch) \n",
    "        #print(out.shape)\n",
    "        out = out.view(-1, len(INDEX_TO_CHAR) + N)\n",
    "        #print(out.shape)\n",
    "        #print(Y_batch.shape)\n",
    "        l = loss(out, Y_trn_batch)\n",
    "        train_loss += l.item()\n",
    "        batch_acc = (out.argmax(dim=1) == Y_trn_batch)\n",
    "        train_acc += batch_acc.sum().item() / batch_acc.shape[0]\n",
    "        l.backward()\n",
    "        optimizer.step()\n",
    "        iter_num += 1\n",
    "    print(\n",
    "        f\"Epoch: {epoch}, loss: {train_loss:.4f}, acc: \"\n",
    "        f\"{train_acc / iter_num:.4f}\",\n",
    "        end=\" | \"\n",
    "    )\n",
    "\n"
   ]
  },
  {
   "cell_type": "markdown",
   "id": "2272fa65-2c0e-4d52-932c-5a6df19df832",
   "metadata": {},
   "source": [
    "Проверяем на тестовых данных"
   ]
  },
  {
   "cell_type": "code",
   "execution_count": 61,
   "id": "c56e9d29-143c-477f-9c28-1048dbb4c2bc",
   "metadata": {},
   "outputs": [
    {
     "name": "stdout",
     "output_type": "stream",
     "text": [
      "Epoch: 0, loss: 2.4590, acc: 0.2378 | Epoch: 1, loss: 1.8859, acc: 0.5599 | Epoch: 2, loss: 1.0376, acc: 0.7246 | Epoch: 3, loss: 0.6985, acc: 0.8544 | Epoch: 4, loss: 0.3765, acc: 0.9483 | Epoch: 5, loss: 0.2180, acc: 0.9668 | Epoch: 6, loss: 0.1195, acc: 0.9849 | Epoch: 7, loss: 0.0677, acc: 0.9905 | Epoch: 8, loss: 0.0422, acc: 0.9956 | Epoch: 9, loss: 0.0301, acc: 0.9954 | Epoch: 10, loss: 0.0252, acc: 0.9948 | Epoch: 11, loss: 0.0223, acc: 0.9947 | Epoch: 12, loss: 0.0179, acc: 0.9960 | Epoch: 13, loss: 0.0141, acc: 0.9970 | Epoch: 14, loss: 0.0127, acc: 0.9974 | Epoch: 15, loss: 0.0126, acc: 0.9973 | Epoch: 16, loss: 0.0138, acc: 0.9966 | Epoch: 17, loss: 0.0153, acc: 0.9963 | Epoch: 18, loss: 0.0158, acc: 0.9966 | Epoch: 19, loss: 0.0151, acc: 0.9973 | "
     ]
    }
   ],
   "source": [
    "for epoch in range(20):\n",
    "    start_epoch_time = time.time()\n",
    "    test_loss, test_acc, iter_num = .0, .0, .0\n",
    "    model.eval()\n",
    "    \n",
    "    Y_test = Y_test.view(1, -1).squeeze()\n",
    "    out = model.forward(X_test)\n",
    "    #print(out.shape)\n",
    "    out = out.view(-1, len(INDEX_TO_CHAR) + N)\n",
    "    #print(out.shape)\n",
    "    #print(Y_batch.shape)\n",
    "    l = loss(out, Y_test)\n",
    "    test_loss += l.item()\n",
    "    batch_acc = (out.argmax(dim=1) == Y_test)\n",
    "    test_acc += batch_acc.sum().item() / batch_acc.shape[0]\n",
    "    l.backward()\n",
    "    optimizer.step()\n",
    "    iter_num += 1\n",
    "    print(\n",
    "        f\"Epoch: {epoch}, loss: {test_loss:.4f}, acc: \"\n",
    "        f\"{test_acc / iter_num:.4f}\",\n",
    "        end=\" | \"\n",
    "    )"
   ]
  },
  {
   "cell_type": "code",
   "execution_count": null,
   "id": "420a6d1b-c2da-487b-a38e-190cfb749d73",
   "metadata": {},
   "outputs": [],
   "source": [
    "loss уменьшается с каждой эпохой и на train и на test, accuracy растет."
   ]
  },
  {
   "cell_type": "code",
   "execution_count": 65,
   "id": "58f078da-d9a4-47e9-8735-8d2d1e71f994",
   "metadata": {},
   "outputs": [
    {
     "name": "stdout",
     "output_type": "stream",
     "text": [
      "Test accuracy is : 0.9973\n"
     ]
    }
   ],
   "source": [
    "print(f\"Test accuracy is : {test_acc:.4f}\")"
   ]
  },
  {
   "cell_type": "code",
   "execution_count": null,
   "id": "b21ab1d9-9096-434d-b04c-4333d5316e2e",
   "metadata": {},
   "outputs": [],
   "source": [
    "accuracy ~ 1, loss стермится к 0 - качество модели удовлетворительное"
   ]
  },
  {
   "cell_type": "code",
   "execution_count": null,
   "id": "881da6d1-62c3-40f3-9cf0-f449618fce0a",
   "metadata": {},
   "outputs": [],
   "source": []
  }
 ],
 "metadata": {
  "kernelspec": {
   "display_name": "Python 3 (ipykernel)",
   "language": "python",
   "name": "python3"
  },
  "language_info": {
   "codemirror_mode": {
    "name": "ipython",
    "version": 3
   },
   "file_extension": ".py",
   "mimetype": "text/x-python",
   "name": "python",
   "nbconvert_exporter": "python",
   "pygments_lexer": "ipython3",
   "version": "3.12.4"
  }
 },
 "nbformat": 4,
 "nbformat_minor": 5
}
