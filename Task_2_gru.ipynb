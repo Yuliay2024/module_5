{
 "cells": [
  {
   "cell_type": "markdown",
   "id": "2d099e73-921f-47b7-97d6-5a7a5e284642",
   "metadata": {},
   "source": [
    "3. Сгенерировать последовательности, которые состоят из цифр (от 0 до 9) и задаются следующим образом:\n",
    "x - последовательность цифр\n",
    "y1 = x1 \n",
    "yi = xi + x1\n",
    "Если yi >= 10 то yi = yi - 10\n",
    "Научить модель рекуррентной нейронной сети предсказывать yi по xi Использовать: RNN, LSTM, GRU\n"
   ]
  },
  {
   "cell_type": "code",
   "execution_count": 2,
   "id": "5f9ce4cc-44d1-4fc4-8e28-bb4794035b85",
   "metadata": {},
   "outputs": [],
   "source": [
    "import numpy as np\n",
    "import torch\n",
    "from itertools import permutations\n",
    "import random\n",
    "import time\n",
    "import torch.nn.functional \n"
   ]
  },
  {
   "cell_type": "markdown",
   "id": "2c09698c-d5d3-4db0-9b0e-7223a90a0d9e",
   "metadata": {},
   "source": [
    "Подготовка данных"
   ]
  },
  {
   "cell_type": "code",
   "execution_count": 4,
   "id": "956e94ea-1044-40d9-b956-fed49c77a541",
   "metadata": {},
   "outputs": [],
   "source": [
    "# функция для перестановки заданного списка\n",
    "# генерируем последовательность из цифр от 0-9:\n",
    "def permutation(lst):\n",
    " \n",
    "    # Если lst пуст, то перестановок нет\n",
    "    if len(lst) == 0:\n",
    "        return []\n",
    " \n",
    "    # если 1 элемент, то одна перестановка возможна\n",
    "   \n",
    "    if len(lst) == 1:\n",
    "        return [lst]\n",
    " \n",
    "    # Найдите перестановки для lst, если они существую\n",
    "    # более чем 1 символ\n",
    " \n",
    "    l = [] # пустой список, в котором будет храниться текущая перестановка\n",
    " \n",
    "    # Повторите ввод (lst) и вычислите перестановку\n",
    "    for i in range(len(lst)):\n",
    "       m = lst[i]\n",
    " \n",
    "       # Extract lst[i] or m from the list.  remLst is\n",
    "       # remaining list\n",
    "       remLst = lst[:i] + lst[i+1:]\n",
    " \n",
    "       # Генерация всех перестановок, где m является первым элементом\n",
    "       \n",
    "       for p in permutation(remLst):\n",
    "           l.append([m] + p)\n",
    "    return l\n",
    " \n",
    " \n",
    "# тест функции, добавим все перестановки в список\n",
    "data = [1, 2, 3, 4, 5, 6, 7, 8, 9, 0]\n",
    "list = []\n",
    "for p in permutation(data):\n",
    "    list.append(p)\n",
    "    #print (p)"
   ]
  },
  {
   "cell_type": "code",
   "execution_count": 5,
   "id": "93ec4e8a-446c-4fba-ad9d-c7a482e05ca3",
   "metadata": {},
   "outputs": [
    {
     "data": {
      "text/plain": [
       "[[1, 2, 3, 4, 5, 6, 7, 8, 9, 0],\n",
       " [1, 2, 3, 4, 5, 6, 7, 8, 0, 9],\n",
       " [1, 2, 3, 4, 5, 6, 7, 9, 8, 0],\n",
       " [1, 2, 3, 4, 5, 6, 7, 9, 0, 8],\n",
       " [1, 2, 3, 4, 5, 6, 7, 0, 8, 9]]"
      ]
     },
     "execution_count": 5,
     "metadata": {},
     "output_type": "execute_result"
    }
   ],
   "source": [
    "#длина полученного списка\n",
    "list[:5]"
   ]
  },
  {
   "cell_type": "code",
   "execution_count": 6,
   "id": "6af06eb6-0f90-4278-a2f8-e2b741fb20ba",
   "metadata": {},
   "outputs": [
    {
     "data": {
      "text/plain": [
       "3628800"
      ]
     },
     "execution_count": 6,
     "metadata": {},
     "output_type": "execute_result"
    }
   ],
   "source": [
    "len(list)"
   ]
  },
  {
   "cell_type": "code",
   "execution_count": 7,
   "id": "3fabe7e5-b4de-4063-9a80-d2b21e3bc5c8",
   "metadata": {},
   "outputs": [],
   "source": [
    "#отбираем из списка по индексу кратный 50, так как list слишком большой\n",
    "Xdata = []\n",
    "for m in range(0, len(list)):\n",
    "    if m %50==0:\n",
    "        Xdata.append(list[m])"
   ]
  },
  {
   "cell_type": "code",
   "execution_count": 8,
   "id": "9cc01b6e-5638-4c71-940f-e3c37ca05c93",
   "metadata": {},
   "outputs": [
    {
     "data": {
      "text/plain": [
       "72576"
      ]
     },
     "execution_count": 8,
     "metadata": {},
     "output_type": "execute_result"
    }
   ],
   "source": [
    "len(Xdata)"
   ]
  },
  {
   "cell_type": "code",
   "execution_count": 9,
   "id": "fe9f60a0-023c-4a47-83df-57fb427d16a4",
   "metadata": {},
   "outputs": [],
   "source": [
    "#функция - прописываем условия для Y\n",
    "def create_dataset(df):\n",
    "    set = []\n",
    "    ydata = []\n",
    "    set.append(df[0])\n",
    "    for i in range(1, len(df)):\n",
    "        set.append(df[i]+df[0])\n",
    "    for j in range(0, len(set)):\n",
    "        if set[j] >= 10:\n",
    "            ydata.append(set[j]-10)\n",
    "        else:\n",
    "            ydata.append(set[j]) \n",
    "    return ydata"
   ]
  },
  {
   "cell_type": "code",
   "execution_count": 10,
   "id": "63d91563-2f97-44a3-bec3-572528a5d79b",
   "metadata": {},
   "outputs": [
    {
     "data": {
      "text/plain": [
       "[1, 3, 4, 5, 6, 7, 8, 9, 0, 1]"
      ]
     },
     "execution_count": 10,
     "metadata": {},
     "output_type": "execute_result"
    }
   ],
   "source": [
    "#тест\n",
    "df = [1, 2, 3, 4, 5, 6, 7, 8, 9, 0]\n",
    "create_dataset(df)"
   ]
  },
  {
   "cell_type": "code",
   "execution_count": 11,
   "id": "77ec8bb4-83a3-409c-9c67-59feda15da11",
   "metadata": {},
   "outputs": [],
   "source": [
    "#применяем фугкцию для всех элементов списка\n",
    "Ydata=[]\n",
    "for k in Xdata:\n",
    "    Ydata.append(create_dataset(k))"
   ]
  },
  {
   "cell_type": "code",
   "execution_count": 12,
   "id": "19508c40-9702-482b-a99d-bed2f116a688",
   "metadata": {},
   "outputs": [
    {
     "data": {
      "text/plain": [
       "72576"
      ]
     },
     "execution_count": 12,
     "metadata": {},
     "output_type": "execute_result"
    }
   ],
   "source": [
    "len(Ydata)"
   ]
  },
  {
   "cell_type": "code",
   "execution_count": 13,
   "id": "9f713ab9-bf6f-473f-991e-cf26d19f628a",
   "metadata": {},
   "outputs": [
    {
     "data": {
      "text/plain": [
       "[[1, 3, 4, 5, 6, 7, 8, 9, 0, 1],\n",
       " [1, 3, 4, 5, 6, 9, 7, 0, 8, 1],\n",
       " [1, 3, 4, 5, 6, 1, 7, 0, 8, 9],\n",
       " [1, 3, 4, 5, 7, 8, 9, 6, 0, 1],\n",
       " [1, 3, 4, 5, 7, 0, 8, 9, 6, 1]]"
      ]
     },
     "execution_count": 13,
     "metadata": {},
     "output_type": "execute_result"
    }
   ],
   "source": [
    "Ydata[:5]"
   ]
  },
  {
   "cell_type": "code",
   "execution_count": null,
   "id": "9fc8fe77-d3f8-4961-9b49-f0b86a232049",
   "metadata": {},
   "outputs": [],
   "source": []
  },
  {
   "cell_type": "code",
   "execution_count": 14,
   "id": "bbb1994c-4898-4bbe-823e-f115fd6466d5",
   "metadata": {},
   "outputs": [],
   "source": [
    "# делим на train/test\n",
    "num_trn = int(0.75*len(Xdata))                \n",
    "X_trn, Y_trn = Xdata[:num_trn], Ydata[:num_trn]\n",
    "X_test, Y_test = Xdata[num_trn:], Ydata[num_trn:]"
   ]
  },
  {
   "cell_type": "code",
   "execution_count": 15,
   "id": "1ddbc6ee-b8bd-4bcb-9a79-55cee92a1c69",
   "metadata": {},
   "outputs": [
    {
     "data": {
      "text/plain": [
       "54432"
      ]
     },
     "execution_count": 15,
     "metadata": {},
     "output_type": "execute_result"
    }
   ],
   "source": [
    "len(X_trn)"
   ]
  },
  {
   "cell_type": "code",
   "execution_count": 16,
   "id": "0cd1b7b4-d6c4-433d-90d5-79519bd315f2",
   "metadata": {},
   "outputs": [
    {
     "data": {
      "text/plain": [
       "54432"
      ]
     },
     "execution_count": 16,
     "metadata": {},
     "output_type": "execute_result"
    }
   ],
   "source": [
    "len(Y_trn)"
   ]
  },
  {
   "cell_type": "code",
   "execution_count": 17,
   "id": "fa4eecbd-5e87-4898-9a21-16757444fbd4",
   "metadata": {},
   "outputs": [
    {
     "data": {
      "text/plain": [
       "18144"
      ]
     },
     "execution_count": 17,
     "metadata": {},
     "output_type": "execute_result"
    }
   ],
   "source": [
    "len(X_test)"
   ]
  },
  {
   "cell_type": "code",
   "execution_count": 18,
   "id": "addb0e2e-4a71-43b4-8b4f-72864578ccc3",
   "metadata": {},
   "outputs": [
    {
     "data": {
      "text/plain": [
       "18144"
      ]
     },
     "execution_count": 18,
     "metadata": {},
     "output_type": "execute_result"
    }
   ],
   "source": [
    "len(Y_test)"
   ]
  },
  {
   "cell_type": "markdown",
   "id": "04770f2d-5f53-4b69-90c6-6a3de3e68a1d",
   "metadata": {},
   "source": [
    "GRU"
   ]
  },
  {
   "cell_type": "code",
   "execution_count": 20,
   "id": "df3223a7-9690-4d00-b55b-6301731effd3",
   "metadata": {},
   "outputs": [],
   "source": [
    "class SimpleGRU(torch.nn.Module):\n",
    "    def __init__(self, input_size, hidden_size, num_layers):\n",
    "        super(SimpleGRU, self).__init__()\n",
    "        self.hidden_size  = hidden_size\n",
    "        self.num_layers = num_layers\n",
    "        self.gru = torch.nn.GRU(input_size=10, hidden_size=hidden_size, num_layers=num_layers,batch_first=True)\n",
    "        self.fc1 = torch.nn.Linear(hidden_size, output_dim)\n",
    "    \n",
    "    def forward(self, x):\n",
    "        h0 = torch.zeros(self.num_layers, x.size(0), self.hidden_size)\n",
    "        \n",
    "        out,_ = self.gru(x, h0)\n",
    "        out = out.reshape(out.shape[0], -1)\n",
    "        out = self.fc1(out)\n",
    "        return out"
   ]
  },
  {
   "cell_type": "code",
   "execution_count": 21,
   "id": "9bd48f09-e5e1-4361-b67b-46f065755e97",
   "metadata": {},
   "outputs": [],
   "source": [
    "input_size = 10\n",
    "hidden_size = 100\n",
    "num_layers = 1\n",
    "output_dim = 10\n",
    "model = SimpleGRU(input_size, hidden_size, num_layers)\n",
    "optimizer =torch.optim.Adam(model.parameters())\n",
    "loss = torch.nn.MSELoss()\n",
    "#loss = torch.nn.CrossEntropyLoss()\n",
    "#optimizer = torch.optim.SGD(model.parameters(), lr=0.5)"
   ]
  },
  {
   "cell_type": "markdown",
   "id": "4ab4920f-02aa-4e74-a8dc-0e06995e749e",
   "metadata": {},
   "source": [
    "Обучаем модель"
   ]
  },
  {
   "cell_type": "code",
   "execution_count": 23,
   "id": "64e7e5ac-5d99-4424-bcb1-3490313f625f",
   "metadata": {},
   "outputs": [
    {
     "name": "stdout",
     "output_type": "stream",
     "text": [
      "Epoch: 0, loss: 28.4531 | "
     ]
    },
    {
     "name": "stderr",
     "output_type": "stream",
     "text": [
      "C:\\Users\\user\\AppData\\Local\\Temp\\ipykernel_10476\\2521572634.py:5: UserWarning: To copy construct from a tensor, it is recommended to use sourceTensor.clone().detach() or sourceTensor.clone().detach().requires_grad_(True), rather than torch.tensor(sourceTensor).\n",
      "  X_trn = torch.tensor(X_trn, dtype = torch.float32).view(len(X_trn), 1, -1)\n",
      "C:\\Users\\user\\AppData\\Local\\Temp\\ipykernel_10476\\2521572634.py:6: UserWarning: To copy construct from a tensor, it is recommended to use sourceTensor.clone().detach() or sourceTensor.clone().detach().requires_grad_(True), rather than torch.tensor(sourceTensor).\n",
      "  Y_trn = torch.tensor(Y_trn, dtype = torch.float32).view(len(Y_trn), -1)\n"
     ]
    },
    {
     "name": "stdout",
     "output_type": "stream",
     "text": [
      "Epoch: 1, loss: 27.9757 | Epoch: 2, loss: 27.5040 | Epoch: 3, loss: 27.0364 | Epoch: 4, loss: 26.5709 | Epoch: 5, loss: 26.1054 | Epoch: 6, loss: 25.6379 | Epoch: 7, loss: 25.1668 | Epoch: 8, loss: 24.6907 | Epoch: 9, loss: 24.2085 | Epoch: 10, loss: 23.7194 | Epoch: 11, loss: 23.2226 | Epoch: 12, loss: 22.7178 | Epoch: 13, loss: 22.2047 | Epoch: 14, loss: 21.6836 | Epoch: 15, loss: 21.1548 | Epoch: 16, loss: 20.6188 | Epoch: 17, loss: 20.0766 | Epoch: 18, loss: 19.5293 | Epoch: 19, loss: 18.9782 | "
     ]
    }
   ],
   "source": [
    "for epoch in range(20):\n",
    "    train_loss, train_acc, iter_num = .0, .0, .0\n",
    "    start_epoch_time = time.time()\n",
    "    model.train()\n",
    "    X_trn = torch.tensor(X_trn, dtype = torch.float32).view(len(X_trn), 1, -1)\n",
    "    Y_trn = torch.tensor(Y_trn, dtype = torch.float32).view(len(Y_trn), -1)\n",
    "    #print(X_trn.shape)\n",
    "    #print(Y_trn.shape)\n",
    "    optimizer.zero_grad() \n",
    "    out = model.forward(X_trn) \n",
    "    #print(out.shape)\n",
    "    out = out.view(len(Y_trn), -1)\n",
    "    #print(out.shape)\n",
    "    #print(Y_trn.shape)\n",
    "    l = loss(out, Y_trn)\n",
    "    train_loss += l.item()\n",
    "    l.backward()\n",
    "    optimizer.step()\n",
    "    print(f\"Epoch: {epoch}, loss: {train_loss:.4f}\",end=\" | \")"
   ]
  },
  {
   "cell_type": "markdown",
   "id": "4a037eb5-a631-4eca-82ef-20a3f7643b55",
   "metadata": {},
   "source": [
    "Проверка на тестовый данных"
   ]
  },
  {
   "cell_type": "code",
   "execution_count": 25,
   "id": "491e5bcb-b10b-4672-8202-2d718cfcda48",
   "metadata": {},
   "outputs": [
    {
     "name": "stdout",
     "output_type": "stream",
     "text": [
      "Epoch: 0, loss: 19.4472 | Epoch: 1, loss: 18.8837 | "
     ]
    },
    {
     "name": "stderr",
     "output_type": "stream",
     "text": [
      "C:\\Users\\user\\AppData\\Local\\Temp\\ipykernel_10476\\3419201947.py:5: UserWarning: To copy construct from a tensor, it is recommended to use sourceTensor.clone().detach() or sourceTensor.clone().detach().requires_grad_(True), rather than torch.tensor(sourceTensor).\n",
      "  X_test = torch.tensor(X_test, dtype = torch.float32).view(len(X_test), 1, -1)\n",
      "C:\\Users\\user\\AppData\\Local\\Temp\\ipykernel_10476\\3419201947.py:6: UserWarning: To copy construct from a tensor, it is recommended to use sourceTensor.clone().detach() or sourceTensor.clone().detach().requires_grad_(True), rather than torch.tensor(sourceTensor).\n",
      "  Y_test = torch.tensor(Y_test, dtype = torch.float32).view(len(Y_test), -1)\n"
     ]
    },
    {
     "name": "stdout",
     "output_type": "stream",
     "text": [
      "Epoch: 2, loss: 18.3139 | Epoch: 3, loss: 17.7401 | Epoch: 4, loss: 17.1620 | Epoch: 5, loss: 16.5801 | Epoch: 6, loss: 15.9956 | Epoch: 7, loss: 15.4110 | Epoch: 8, loss: 14.8295 | Epoch: 9, loss: 14.2545 | Epoch: 10, loss: 13.6898 | Epoch: 11, loss: 13.1393 | Epoch: 12, loss: 12.6068 | Epoch: 13, loss: 12.0963 | Epoch: 14, loss: 11.6112 | Epoch: 15, loss: 11.1551 | Epoch: 16, loss: 10.7314 | Epoch: 17, loss: 10.3430 | Epoch: 18, loss: 9.9928 | Epoch: 19, loss: 9.6832 | Epoch: 20, loss: 9.4163 | Epoch: 21, loss: 9.1940 | Epoch: 22, loss: 9.0175 | Epoch: 23, loss: 8.8877 | Epoch: 24, loss: 8.8048 | Epoch: 25, loss: 8.7685 | Epoch: 26, loss: 8.7782 | Epoch: 27, loss: 8.8326 | Epoch: 28, loss: 8.9300 | Epoch: 29, loss: 9.0684 | Epoch: 30, loss: 9.2455 | Epoch: 31, loss: 9.4585 | Epoch: 32, loss: 9.7046 | Epoch: 33, loss: 9.9805 | Epoch: 34, loss: 10.2823 | Epoch: 35, loss: 10.6060 | Epoch: 36, loss: 10.9472 | Epoch: 37, loss: 11.3011 | Epoch: 38, loss: 11.6624 | Epoch: 39, loss: 12.0257 | Epoch: 40, loss: 12.3856 | Epoch: 41, loss: 12.7363 | Epoch: 42, loss: 13.0723 | Epoch: 43, loss: 13.3885 | Epoch: 44, loss: 13.6798 | Epoch: 45, loss: 13.9420 | Epoch: 46, loss: 14.1713 | Epoch: 47, loss: 14.3647 | Epoch: 48, loss: 14.5199 | Epoch: 49, loss: 14.6355 | "
     ]
    }
   ],
   "source": [
    "for epoch in range(50):\n",
    "    test_loss = .0\n",
    "    start_epoch_time = time.time()\n",
    "    model.eval()\n",
    "    X_test = torch.tensor(X_test, dtype = torch.float32).view(len(X_test), 1, -1)\n",
    "    Y_test = torch.tensor(Y_test, dtype = torch.float32).view(len(Y_test), -1)\n",
    "    out = model.forward(X_test) \n",
    "    out = out.view(len(Y_test), -1)\n",
    "    l = loss(out, Y_test)\n",
    "    test_loss += l.item()\n",
    "    l.backward()\n",
    "    optimizer.step()\n",
    "    print(f\"Epoch: {epoch}, loss: {test_loss:.4f}\",end=\" | \")"
   ]
  },
  {
   "cell_type": "markdown",
   "id": "0b8f2eee-a713-4fff-afd1-edc0f146116a",
   "metadata": {},
   "source": [
    "Результаты неудовлетворительные по всем моделям (RNN/LSTM/GRU). Возможно некорректные данные для обучения или ошибки в модели"
   ]
  }
 ],
 "metadata": {
  "kernelspec": {
   "display_name": "Python 3 (ipykernel)",
   "language": "python",
   "name": "python3"
  },
  "language_info": {
   "codemirror_mode": {
    "name": "ipython",
    "version": 3
   },
   "file_extension": ".py",
   "mimetype": "text/x-python",
   "name": "python",
   "nbconvert_exporter": "python",
   "pygments_lexer": "ipython3",
   "version": "3.12.4"
  }
 },
 "nbformat": 4,
 "nbformat_minor": 5
}
