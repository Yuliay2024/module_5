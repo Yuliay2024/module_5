{
 "cells": [
  {
   "cell_type": "markdown",
   "id": "9df32b88-8787-46aa-a2fc-7d01aae8d1a9",
   "metadata": {},
   "source": [
    "Сгенерировать последовательности, которые состоят из цифр (от 0 до 9) и задаются следующим образом: x - последовательность цифр y1 = x1 yi = xi + x1 Если yi >= 10 то yi = yi - 10 Научить модель рекуррентной нейронной сети предсказывать yi по xi Использовать: RNN, LSTM, GRU"
   ]
  },
  {
   "cell_type": "code",
   "execution_count": 2,
   "id": "348e77b2-29c5-409c-b794-40191c34ab84",
   "metadata": {},
   "outputs": [],
   "source": [
    "import numpy as np\n",
    "import torch\n",
    "import torch.nn as nn\n",
    "from itertools import permutations\n",
    "import random\n",
    "import time\n",
    "import torch.nn.functional as F\n",
    "from torch.utils.data import DataLoader, TensorDataset"
   ]
  },
  {
   "cell_type": "code",
   "execution_count": 3,
   "id": "af911fb7-271e-417e-832b-6727ebe8d46b",
   "metadata": {},
   "outputs": [],
   "source": [
    "seq_length = 10"
   ]
  },
  {
   "cell_type": "code",
   "execution_count": 4,
   "id": "0902352d-2992-4480-8326-027d6201fb6b",
   "metadata": {},
   "outputs": [],
   "source": [
    "#x = random.sample(range(10), seq_length) \n",
    "#y = [(x[i] + x[0]) % 10 for i in range(seq_length)]"
   ]
  },
  {
   "cell_type": "code",
   "execution_count": null,
   "id": "6d2e6c9f-c31c-4f7e-94fb-00354b5d4373",
   "metadata": {},
   "outputs": [],
   "source": []
  },
  {
   "cell_type": "code",
   "execution_count": 5,
   "id": "251f9da8-fadb-4d7c-ba77-6d2230ff0dcc",
   "metadata": {},
   "outputs": [],
   "source": [
    "# генерация x, y\n",
    "data_x = []\n",
    "data_y = []\n",
    "for k in range(100):\n",
    "    x = random.sample(range(10), seq_length)\n",
    "    y = [(x[i] + x[0]) % 10 for i in range(seq_length)]\n",
    "    data_x.append(x)\n",
    "    data_y.append(y)   \n",
    "        "
   ]
  },
  {
   "cell_type": "code",
   "execution_count": 6,
   "id": "18eb85b2-ac4e-487f-85e8-bfc501e8c99b",
   "metadata": {},
   "outputs": [
    {
     "data": {
      "text/plain": [
       "[9, 2, 1, 3, 4, 0, 7, 8, 5, 6]"
      ]
     },
     "execution_count": 6,
     "metadata": {},
     "output_type": "execute_result"
    }
   ],
   "source": [
    "data_x[9]"
   ]
  },
  {
   "cell_type": "code",
   "execution_count": 7,
   "id": "f0caffbd-5852-40fd-9264-ca7137294fee",
   "metadata": {},
   "outputs": [
    {
     "data": {
      "text/plain": [
       "[8, 1, 0, 2, 3, 9, 6, 7, 4, 5]"
      ]
     },
     "execution_count": 7,
     "metadata": {},
     "output_type": "execute_result"
    }
   ],
   "source": [
    "data_y[9]"
   ]
  },
  {
   "cell_type": "code",
   "execution_count": 8,
   "id": "bc956e59-731c-4909-ad1a-9e549525e410",
   "metadata": {},
   "outputs": [
    {
     "data": {
      "text/plain": [
       "100"
      ]
     },
     "execution_count": 8,
     "metadata": {},
     "output_type": "execute_result"
    }
   ],
   "source": [
    "len(data_x)"
   ]
  },
  {
   "cell_type": "code",
   "execution_count": 9,
   "id": "057600a9-cce8-42cb-adbb-497fa5f48c33",
   "metadata": {},
   "outputs": [
    {
     "data": {
      "text/plain": [
       "100"
      ]
     },
     "execution_count": 9,
     "metadata": {},
     "output_type": "execute_result"
    }
   ],
   "source": [
    "len(data_y)"
   ]
  },
  {
   "cell_type": "code",
   "execution_count": 10,
   "id": "4d4bb4c3-fb06-4a67-adb1-f11a0d2a8886",
   "metadata": {},
   "outputs": [],
   "source": [
    "# делим на train/test\n",
    "num_trn = int(0.75*len(data_x))                \n",
    "X_trn, Y_trn = data_x[:num_trn], data_y[:num_trn]\n",
    "X_test, Y_test = data_x[num_trn:], data_y[num_trn:]"
   ]
  },
  {
   "cell_type": "code",
   "execution_count": 11,
   "id": "580a7d3b-802e-4882-9c92-cd19e7137d07",
   "metadata": {},
   "outputs": [
    {
     "data": {
      "text/plain": [
       "(75, 75)"
      ]
     },
     "execution_count": 11,
     "metadata": {},
     "output_type": "execute_result"
    }
   ],
   "source": [
    "len(X_trn), len(Y_trn)"
   ]
  },
  {
   "cell_type": "code",
   "execution_count": 12,
   "id": "b1ad75cc-79bd-4dcb-a2ff-87734e804f62",
   "metadata": {},
   "outputs": [
    {
     "data": {
      "text/plain": [
       "(25, 25)"
      ]
     },
     "execution_count": 12,
     "metadata": {},
     "output_type": "execute_result"
    }
   ],
   "source": [
    "len(X_test), len(Y_test)"
   ]
  },
  {
   "cell_type": "code",
   "execution_count": 13,
   "id": "e9cda856-c5c7-4f28-bc1f-e1e6b647a971",
   "metadata": {},
   "outputs": [],
   "source": [
    "X_tr = torch.tensor(X_trn).type(torch.FloatTensor)\n",
    "Y_tr =  torch.tensor(Y_trn).type(torch.FloatTensor)"
   ]
  },
  {
   "cell_type": "code",
   "execution_count": 14,
   "id": "edae8893-24b4-4f4f-bf4a-aa29f321b9b3",
   "metadata": {},
   "outputs": [],
   "source": [
    "X_ts = torch.tensor(X_test).type(torch.FloatTensor)\n",
    "Y_ts =  torch.tensor(Y_test).type(torch.FloatTensor)"
   ]
  },
  {
   "cell_type": "code",
   "execution_count": 15,
   "id": "ec87ec3d-d06e-42db-868d-ebfee29d4850",
   "metadata": {},
   "outputs": [
    {
     "data": {
      "text/plain": [
       "torch.Size([75, 10])"
      ]
     },
     "execution_count": 15,
     "metadata": {},
     "output_type": "execute_result"
    }
   ],
   "source": [
    "X_tr.shape"
   ]
  },
  {
   "cell_type": "markdown",
   "id": "4c902780-a954-46c3-ad67-37122f5ba787",
   "metadata": {},
   "source": [
    "RNN"
   ]
  },
  {
   "cell_type": "code",
   "execution_count": 17,
   "id": "ff208e0a-7de1-491b-b64c-fe8630fd6a2e",
   "metadata": {},
   "outputs": [],
   "source": [
    "class RNNModel(torch.nn.Module):\n",
    "    \n",
    "    def __init__(self):\n",
    "        super(RNNModel, self).__init__()\n",
    "\n",
    "        self.hidden_size = hidden_size\n",
    "        self.input_size = input_size\n",
    "        self.rnn = torch.nn.RNN(input_size, hidden_size, batch_first=True)\n",
    "        self.linear = torch.nn.Linear(hidden_size, input_size)\n",
    "\n",
    "    def forward(self, X, state=None):\n",
    "        o, h = self.rnn(X)\n",
    "        out = self.linear(o)\n",
    "        return out"
   ]
  },
  {
   "cell_type": "code",
   "execution_count": 18,
   "id": "314b3b17-9828-4d2e-8f54-ffd499b5e990",
   "metadata": {},
   "outputs": [],
   "source": [
    "input_size=10\n",
    "hidden_size=100\n"
   ]
  },
  {
   "cell_type": "code",
   "execution_count": 19,
   "id": "7dfdfae6-9003-4e47-be2c-99cd674ccf9c",
   "metadata": {},
   "outputs": [],
   "source": [
    "model = RNNModel()\n",
    "#optimizer =torch.optim.Adam(model.parameters())\n",
    "loss = torch.nn.CrossEntropyLoss()\n",
    "optimizer = torch.optim.SGD(model.parameters(), lr=0.001, momentum=0.01)\n",
    "num_epochs = 20"
   ]
  },
  {
   "cell_type": "code",
   "execution_count": 20,
   "id": "84e9c8f6-9429-4b5d-aa61-b744dc866bb6",
   "metadata": {},
   "outputs": [
    {
     "name": "stdout",
     "output_type": "stream",
     "text": [
      "epoch: 0, taked: 0.021, train_loss: 107.137, train_acc: 0.173, test_loss: 106.963, test_acc: 0.24\n",
      "epoch: 1, taked: 0.012, train_loss: 105.879, train_acc: 0.173, test_loss: 106.269, test_acc: 0.24\n",
      "epoch: 2, taked: 0.008, train_loss: 105.162, train_acc: 0.173, test_loss: 105.835, test_acc: 0.24\n",
      "epoch: 3, taked: 0.006, train_loss: 104.724, train_acc: 0.173, test_loss: 105.546, test_acc: 0.24\n",
      "epoch: 4, taked: 0.010, train_loss: 104.438, train_acc: 0.173, test_loss: 105.345, test_acc: 0.24\n",
      "epoch: 5, taked: 0.008, train_loss: 104.241, train_acc: 0.173, test_loss: 105.2, test_acc: 0.24\n",
      "epoch: 6, taked: 0.001, train_loss: 104.096, train_acc: 0.173, test_loss: 105.092, test_acc: 0.24\n",
      "epoch: 7, taked: 0.000, train_loss: 103.985, train_acc: 0.173, test_loss: 105.008, test_acc: 0.24\n",
      "epoch: 8, taked: 0.016, train_loss: 103.894, train_acc: 0.173, test_loss: 104.941, test_acc: 0.24\n",
      "epoch: 9, taked: 0.000, train_loss: 103.816, train_acc: 0.173, test_loss: 104.886, test_acc: 0.24\n",
      "epoch: 10, taked: 0.000, train_loss: 103.747, train_acc: 0.213, test_loss: 104.84, test_acc: 0.16\n",
      "epoch: 11, taked: 0.016, train_loss: 103.683, train_acc: 0.213, test_loss: 104.8, test_acc: 0.16\n",
      "epoch: 12, taked: 0.000, train_loss: 103.625, train_acc: 0.32, test_loss: 104.766, test_acc: 0.2\n",
      "epoch: 13, taked: 0.016, train_loss: 103.569, train_acc: 0.32, test_loss: 104.736, test_acc: 0.2\n",
      "epoch: 14, taked: 0.000, train_loss: 103.516, train_acc: 0.32, test_loss: 104.709, test_acc: 0.2\n",
      "epoch: 15, taked: 0.000, train_loss: 103.465, train_acc: 0.32, test_loss: 104.684, test_acc: 0.2\n",
      "epoch: 16, taked: 0.016, train_loss: 103.416, train_acc: 0.32, test_loss: 104.662, test_acc: 0.2\n",
      "epoch: 17, taked: 0.000, train_loss: 103.369, train_acc: 0.32, test_loss: 104.642, test_acc: 0.2\n",
      "epoch: 18, taked: 0.018, train_loss: 103.323, train_acc: 0.32, test_loss: 104.623, test_acc: 0.2\n",
      "epoch: 19, taked: 0.000, train_loss: 103.279, train_acc: 0.227, test_loss: 104.606, test_acc: 0.08\n"
     ]
    }
   ],
   "source": [
    "for epoch in range(num_epochs):\n",
    "    train_iters, train_passed  = 0, 0\n",
    "    train_loss, train_acc = 0., 0.\n",
    "    start=time.time()\n",
    "    model.train()\n",
    "    #обнуляем градиент\n",
    "    optimizer.zero_grad()\n",
    "    y_pred = model.forward(X_tr)\n",
    "    l = loss(y_pred, Y_tr)\n",
    "    l.backward()\n",
    "    optimizer.step()\n",
    "\n",
    "    train_loss += l.item()\n",
    "    train_acc += (y_pred.argmax(dim=0) == Y_tr).sum().item()\n",
    "\n",
    "    train_iters += 1\n",
    "    train_passed += len(X_tr)\n",
    "    \n",
    "    \n",
    "    test_iters, test_passed  = 0, 0\n",
    "    test_loss, test_acc = 0., 0.\n",
    "    model.eval()\n",
    "    with torch.no_grad():\n",
    "        pred = model(X_ts)\n",
    "        l = loss(pred, Y_ts)\n",
    "        test_loss += l.item()\n",
    "        test_acc += (y_pred.argmax(dim=0)==Y_ts).sum().item()\n",
    "        test_iters += 1\n",
    "        test_passed += len(X_ts)\n",
    "        \n",
    "    print(\"epoch: {}, taked: {:.3f}, train_loss: {}, train_acc: {}, test_loss: {}, test_acc: {}\".format(\n",
    "        epoch, time.time() - start, round(train_loss / train_iters, 3), round(train_acc / train_passed, 3),\n",
    "        round(test_loss / test_iters, 3), round(test_acc / test_passed, 3))\n",
    "    )"
   ]
  },
  {
   "cell_type": "code",
   "execution_count": null,
   "id": "060dccf2-188f-4ad2-b70d-f1434f2d836d",
   "metadata": {},
   "outputs": [],
   "source": []
  },
  {
   "cell_type": "markdown",
   "id": "8c56b65d-246a-472b-89db-3dc948194f4b",
   "metadata": {},
   "source": [
    "GRU"
   ]
  },
  {
   "cell_type": "code",
   "execution_count": 22,
   "id": "6b26e7b1-8708-4680-b78d-f26d827d67df",
   "metadata": {},
   "outputs": [],
   "source": [
    "class SimpleGRU(torch.nn.Module):\n",
    "    def __init__(self, input_size, hidden_size, num_layers):\n",
    "        super(SimpleGRU, self).__init__()\n",
    "        self.hidden_size  = hidden_size\n",
    "        self.num_layers = num_layers\n",
    "        self.gru = torch.nn.GRU(input_size=10, hidden_size=hidden_size, num_layers=num_layers,batch_first=True)\n",
    "        self.fc1 = torch.nn.Linear(hidden_size, output_dim)\n",
    "    \n",
    "    def forward(self, x):\n",
    "        h0 = torch.zeros(self.num_layers, x.size(0), self.hidden_size)\n",
    "        \n",
    "        out,_ = self.gru(x, h0)\n",
    "        out = out.reshape(out.shape[0], -1)\n",
    "        out = self.fc1(out)\n",
    "        return out"
   ]
  },
  {
   "cell_type": "code",
   "execution_count": 23,
   "id": "9bbe5524-52ce-45d0-af87-95aba0d75deb",
   "metadata": {},
   "outputs": [],
   "source": [
    "input_size = 10\n",
    "hidden_size = 100\n",
    "num_layers = 1\n",
    "output_dim = 10\n",
    "model_gru = SimpleGRU(input_size, hidden_size, num_layers)\n",
    "loss = torch.nn.CrossEntropyLoss()\n",
    "optimizer = torch.optim.SGD(model.parameters(), lr=0.001, momentum=0.01)"
   ]
  },
  {
   "cell_type": "code",
   "execution_count": 24,
   "id": "3a205210-674a-4072-b097-f8a2a5780ad8",
   "metadata": {},
   "outputs": [],
   "source": [
    "X_tr = X_tr.view(len(X_tr), 1, -1)\n",
    "Y_tr = Y_tr.view(len(Y_tr), -1)"
   ]
  },
  {
   "cell_type": "code",
   "execution_count": 25,
   "id": "c8ce7a6d-1bda-4305-abf0-a45ad6ad3bb8",
   "metadata": {},
   "outputs": [
    {
     "name": "stdout",
     "output_type": "stream",
     "text": [
      "epoch: 0, taked: 0.008, train_loss: 104.54, train_acc: 0.213, test_loss: 104.606, test_acc: 0.2\n",
      "epoch: 1, taked: 0.000, train_loss: 104.54, train_acc: 0.213, test_loss: 104.606, test_acc: 0.2\n",
      "epoch: 2, taked: 0.000, train_loss: 104.54, train_acc: 0.213, test_loss: 104.606, test_acc: 0.2\n",
      "epoch: 3, taked: 0.000, train_loss: 104.54, train_acc: 0.213, test_loss: 104.606, test_acc: 0.2\n",
      "epoch: 4, taked: 0.000, train_loss: 104.54, train_acc: 0.213, test_loss: 104.606, test_acc: 0.2\n",
      "epoch: 5, taked: 0.016, train_loss: 104.54, train_acc: 0.213, test_loss: 104.606, test_acc: 0.2\n",
      "epoch: 6, taked: 0.000, train_loss: 104.54, train_acc: 0.213, test_loss: 104.606, test_acc: 0.2\n",
      "epoch: 7, taked: 0.000, train_loss: 104.54, train_acc: 0.213, test_loss: 104.606, test_acc: 0.2\n",
      "epoch: 8, taked: 0.000, train_loss: 104.54, train_acc: 0.213, test_loss: 104.606, test_acc: 0.2\n",
      "epoch: 9, taked: 0.000, train_loss: 104.54, train_acc: 0.213, test_loss: 104.606, test_acc: 0.2\n",
      "epoch: 10, taked: 0.000, train_loss: 104.54, train_acc: 0.213, test_loss: 104.606, test_acc: 0.2\n",
      "epoch: 11, taked: 0.000, train_loss: 104.54, train_acc: 0.213, test_loss: 104.606, test_acc: 0.2\n",
      "epoch: 12, taked: 0.000, train_loss: 104.54, train_acc: 0.213, test_loss: 104.606, test_acc: 0.2\n",
      "epoch: 13, taked: 0.000, train_loss: 104.54, train_acc: 0.213, test_loss: 104.606, test_acc: 0.2\n",
      "epoch: 14, taked: 0.016, train_loss: 104.54, train_acc: 0.213, test_loss: 104.606, test_acc: 0.2\n",
      "epoch: 15, taked: 0.000, train_loss: 104.54, train_acc: 0.213, test_loss: 104.606, test_acc: 0.2\n",
      "epoch: 16, taked: 0.000, train_loss: 104.54, train_acc: 0.213, test_loss: 104.606, test_acc: 0.2\n",
      "epoch: 17, taked: 0.000, train_loss: 104.54, train_acc: 0.213, test_loss: 104.606, test_acc: 0.2\n",
      "epoch: 18, taked: 0.000, train_loss: 104.54, train_acc: 0.213, test_loss: 104.606, test_acc: 0.2\n",
      "epoch: 19, taked: 0.000, train_loss: 104.54, train_acc: 0.213, test_loss: 104.606, test_acc: 0.2\n"
     ]
    }
   ],
   "source": [
    "for epoch in range(num_epochs):\n",
    "    train_iters, train_passed  = 0, 0\n",
    "    train_loss, train_acc = 0., 0.\n",
    "    start=time.time()\n",
    "    model_gru.train()\n",
    "\n",
    "    optimizer.zero_grad()\n",
    "    y_pred = model_gru.forward(X_tr)\n",
    "    l = loss(y_pred, Y_tr)\n",
    "    l.backward()\n",
    "    optimizer.step()\n",
    "\n",
    "    train_loss += l.item()\n",
    "    train_acc += (y_pred.argmax(dim=0) == Y_tr).sum().item()\n",
    "\n",
    "    train_iters += 1\n",
    "    train_passed += len(X_tr)\n",
    "    \n",
    "    \n",
    "    test_iters, test_passed  = 0, 0\n",
    "    test_loss, test_acc = 0., 0.\n",
    "    model_gru.eval()\n",
    "    with torch.no_grad():\n",
    "        pred = model(X_ts)\n",
    "        l = loss(pred, Y_ts)\n",
    "        test_loss += l.item()\n",
    "        test_acc += (y_pred.argmax(dim=0)==Y_ts).sum().item()\n",
    "        test_iters += 1\n",
    "        test_passed += len(X_ts)\n",
    "        \n",
    "    print(\"epoch: {}, taked: {:.3f}, train_loss: {}, train_acc: {}, test_loss: {}, test_acc: {}\".format(\n",
    "        epoch, time.time() - start, round(train_loss / train_iters, 3), round(train_acc / train_passed, 3),\n",
    "        round(test_loss / test_iters, 3), round(test_acc / test_passed, 3))\n",
    "    )"
   ]
  },
  {
   "cell_type": "code",
   "execution_count": null,
   "id": "41ef3fbd-8fe4-422d-a2bc-ae6a655799c7",
   "metadata": {},
   "outputs": [],
   "source": []
  },
  {
   "cell_type": "markdown",
   "id": "8aebc2d2-8b4b-4f5f-8df6-93ebb4101ad9",
   "metadata": {},
   "source": [
    "LSTM"
   ]
  },
  {
   "cell_type": "code",
   "execution_count": 27,
   "id": "1e7cee5a-a413-4394-837e-6f24c8cf9f06",
   "metadata": {},
   "outputs": [],
   "source": [
    "class LSTMModel(torch.nn.Module):\n",
    "    def __init__(self, input_dim, hidden_dim, layer_dim):\n",
    "        super(LSTMModel, self).__init__()\n",
    "        \n",
    "        # Hidden dimensions\n",
    "        self.hidden_dim = hidden_dim\n",
    "        # Number of hidden layers\n",
    "        self.layer_dim = layer_dim\n",
    "        # LSTM\n",
    "        self.lstm = torch.nn.LSTM(input_dim, hidden_dim, layer_dim, batch_first=True) # batch_first=True (batch_dim, seq_dim, feature_dim)\n",
    "        # Readout layer\n",
    "        self.fc = torch.nn.Linear(hidden_dim, output_dim)\n",
    "\n",
    "    def forward(self, x):\n",
    "        x, _ = self.lstm(x)\n",
    "        x = self.fc(x)\n",
    "        return x\n",
    "    \n",
    "input_dim = 1\n",
    "hidden_dim = 50\n",
    "layer_dim = 1\n",
    "output_dim = 10\n",
    "model_lstm = LSTMModel(input_dim, hidden_dim, layer_dim)"
   ]
  },
  {
   "cell_type": "code",
   "execution_count": 28,
   "id": "1c482ff5-63a7-4ed0-816f-f5b1dbadb386",
   "metadata": {},
   "outputs": [],
   "source": [
    "model_lstm = LSTMModel(input_dim=10, hidden_dim=100, layer_dim=1)\n",
    "loss = torch.nn.CrossEntropyLoss()\n",
    "optimizer = torch.optim.SGD(model.parameters(), lr=0.001, momentum=0.01)"
   ]
  },
  {
   "cell_type": "code",
   "execution_count": 29,
   "id": "ca452124-a2e9-4fe6-837d-f20eb325a8fe",
   "metadata": {},
   "outputs": [],
   "source": [
    "X_tr = X_tr.view(len(X_tr), 1, -1)\n",
    "Y_tr = Y_tr.view(len(Y_tr), -1)"
   ]
  },
  {
   "cell_type": "code",
   "execution_count": 30,
   "id": "d570609b-2194-49c5-9505-9c7f69200151",
   "metadata": {},
   "outputs": [
    {
     "name": "stdout",
     "output_type": "stream",
     "text": [
      "epoch: 0, taked: 0.035, train_loss: 103.703, train_acc: 0.253, test_loss: 103.825, test_acc: 0.48\n",
      "epoch: 1, taked: 0.000, train_loss: 103.703, train_acc: 0.253, test_loss: 103.825, test_acc: 0.48\n",
      "epoch: 2, taked: 0.016, train_loss: 103.703, train_acc: 0.253, test_loss: 103.825, test_acc: 0.48\n",
      "epoch: 3, taked: 0.000, train_loss: 103.703, train_acc: 0.253, test_loss: 103.825, test_acc: 0.48\n",
      "epoch: 4, taked: 0.000, train_loss: 103.703, train_acc: 0.253, test_loss: 103.825, test_acc: 0.48\n",
      "epoch: 5, taked: 0.000, train_loss: 103.703, train_acc: 0.253, test_loss: 103.825, test_acc: 0.48\n",
      "epoch: 6, taked: 0.000, train_loss: 103.703, train_acc: 0.253, test_loss: 103.825, test_acc: 0.48\n",
      "epoch: 7, taked: 0.017, train_loss: 103.703, train_acc: 0.253, test_loss: 103.825, test_acc: 0.48\n",
      "epoch: 8, taked: 0.002, train_loss: 103.703, train_acc: 0.253, test_loss: 103.825, test_acc: 0.48\n",
      "epoch: 9, taked: 0.000, train_loss: 103.703, train_acc: 0.253, test_loss: 103.825, test_acc: 0.48\n",
      "epoch: 10, taked: 0.000, train_loss: 103.703, train_acc: 0.253, test_loss: 103.825, test_acc: 0.48\n",
      "epoch: 11, taked: 0.000, train_loss: 103.703, train_acc: 0.253, test_loss: 103.825, test_acc: 0.48\n",
      "epoch: 12, taked: 0.000, train_loss: 103.703, train_acc: 0.253, test_loss: 103.825, test_acc: 0.48\n",
      "epoch: 13, taked: 0.000, train_loss: 103.703, train_acc: 0.253, test_loss: 103.825, test_acc: 0.48\n",
      "epoch: 14, taked: 0.000, train_loss: 103.703, train_acc: 0.253, test_loss: 103.825, test_acc: 0.48\n",
      "epoch: 15, taked: 0.000, train_loss: 103.703, train_acc: 0.253, test_loss: 103.825, test_acc: 0.48\n",
      "epoch: 16, taked: 0.016, train_loss: 103.703, train_acc: 0.253, test_loss: 103.825, test_acc: 0.48\n",
      "epoch: 17, taked: 0.003, train_loss: 103.703, train_acc: 0.253, test_loss: 103.825, test_acc: 0.48\n",
      "epoch: 18, taked: 0.000, train_loss: 103.703, train_acc: 0.253, test_loss: 103.825, test_acc: 0.48\n",
      "epoch: 19, taked: 0.000, train_loss: 103.703, train_acc: 0.253, test_loss: 103.825, test_acc: 0.48\n"
     ]
    }
   ],
   "source": [
    "for epoch in range(num_epochs):\n",
    "    train_iters, train_passed  = 0, 0\n",
    "    train_loss, train_acc = 0., 0.\n",
    "    start=time.time()\n",
    "    model_lstm.train()\n",
    "\n",
    "    optimizer.zero_grad()\n",
    "    y_pred = model_lstm.forward(X_tr)\n",
    "    y_pred = y_pred.view(len(Y_tr), -1)\n",
    "    l = loss(y_pred, Y_tr)\n",
    "    l.backward()\n",
    "    optimizer.step()\n",
    "\n",
    "    train_loss += l.item()\n",
    "    train_acc += (y_pred.argmax(dim=0) == Y_tr).sum().item()\n",
    "\n",
    "    train_iters += 1\n",
    "    train_passed += len(X_tr)\n",
    "    \n",
    "    \n",
    "    test_iters, test_passed  = 0, 0\n",
    "    test_loss, test_acc = 0., 0.\n",
    "    model_lstm.eval()\n",
    "    with torch.no_grad():\n",
    "        pred = model_lstm(X_ts)\n",
    "        l = loss(pred, Y_ts)\n",
    "        test_loss += l.item()\n",
    "        test_acc += (y_pred.argmax(dim=0)==Y_ts).sum().item()\n",
    "        test_iters += 1\n",
    "        test_passed += len(X_ts)\n",
    "        \n",
    "    print(\"epoch: {}, taked: {:.3f}, train_loss: {}, train_acc: {}, test_loss: {}, test_acc: {}\".format(\n",
    "        epoch, time.time() - start, round(train_loss / train_iters, 3), round(train_acc / train_passed, 3),\n",
    "        round(test_loss / test_iters, 3), round(test_acc / test_passed, 3))\n",
    "    )"
   ]
  },
  {
   "cell_type": "code",
   "execution_count": null,
   "id": "50fe98c2-9c7d-441a-87f0-93ac4db14270",
   "metadata": {},
   "outputs": [],
   "source": []
  },
  {
   "cell_type": "code",
   "execution_count": null,
   "id": "e8c534a2-ed02-471d-9399-eec4d55cfd66",
   "metadata": {},
   "outputs": [],
   "source": []
  },
  {
   "cell_type": "code",
   "execution_count": null,
   "id": "dee2d18e-0dba-4882-8d51-147e6a4d2ebf",
   "metadata": {},
   "outputs": [],
   "source": []
  },
  {
   "cell_type": "code",
   "execution_count": null,
   "id": "e6746646-7010-4bf2-aa61-117c5bbf091e",
   "metadata": {},
   "outputs": [],
   "source": []
  },
  {
   "cell_type": "code",
   "execution_count": null,
   "id": "f9f9e96f-2779-4395-b215-bd6405cb5a80",
   "metadata": {},
   "outputs": [],
   "source": []
  },
  {
   "cell_type": "code",
   "execution_count": null,
   "id": "4fa7c4e1-b4fa-4132-9a02-94ec2390119c",
   "metadata": {},
   "outputs": [],
   "source": []
  },
  {
   "cell_type": "code",
   "execution_count": null,
   "id": "15d8bd53-1481-4cb7-8630-96656b6d5894",
   "metadata": {},
   "outputs": [],
   "source": []
  },
  {
   "cell_type": "code",
   "execution_count": null,
   "id": "a7733783-6cbb-4918-8f78-dc3796fb9a72",
   "metadata": {},
   "outputs": [],
   "source": []
  },
  {
   "cell_type": "code",
   "execution_count": null,
   "id": "e86c0fef-a1d7-4d01-8641-aae483881d3c",
   "metadata": {},
   "outputs": [],
   "source": []
  },
  {
   "cell_type": "code",
   "execution_count": null,
   "id": "1a888411-1528-4947-91cf-83030c759d21",
   "metadata": {},
   "outputs": [],
   "source": []
  },
  {
   "cell_type": "code",
   "execution_count": null,
   "id": "b045dcc5-155c-4de7-9f80-5f11f1f07ee2",
   "metadata": {},
   "outputs": [],
   "source": []
  },
  {
   "cell_type": "code",
   "execution_count": null,
   "id": "c0251975-c804-4e36-9d2a-92941a9e9446",
   "metadata": {},
   "outputs": [],
   "source": []
  },
  {
   "cell_type": "code",
   "execution_count": null,
   "id": "d6680b3e-3f9a-40f3-a767-6e5ccc5d6326",
   "metadata": {},
   "outputs": [],
   "source": []
  },
  {
   "cell_type": "code",
   "execution_count": null,
   "id": "6d455bee-1c18-4859-8faf-ed5f0ee1e351",
   "metadata": {},
   "outputs": [],
   "source": []
  },
  {
   "cell_type": "code",
   "execution_count": null,
   "id": "f5a0cefc-3276-471e-b45e-4cfd69dd72bd",
   "metadata": {},
   "outputs": [],
   "source": []
  },
  {
   "cell_type": "code",
   "execution_count": null,
   "id": "fe8d0777-1547-4f0f-b432-3fd50f3bdf0c",
   "metadata": {},
   "outputs": [],
   "source": []
  },
  {
   "cell_type": "code",
   "execution_count": null,
   "id": "36a4cbe7-0d62-4010-863e-429f7564a346",
   "metadata": {},
   "outputs": [],
   "source": []
  },
  {
   "cell_type": "code",
   "execution_count": null,
   "id": "f2dc3b0a-2a3a-4647-8917-6a5d0a5b92c9",
   "metadata": {},
   "outputs": [],
   "source": []
  },
  {
   "cell_type": "code",
   "execution_count": null,
   "id": "3df4f702-9fcf-44f5-9dd6-e71dd24b61a7",
   "metadata": {},
   "outputs": [],
   "source": []
  },
  {
   "cell_type": "code",
   "execution_count": null,
   "id": "010b7f2e-2fb8-49ca-b4e6-0d9ad26caf4c",
   "metadata": {},
   "outputs": [],
   "source": []
  },
  {
   "cell_type": "code",
   "execution_count": null,
   "id": "171bee32-ba1f-4483-8f2f-e306d8454610",
   "metadata": {},
   "outputs": [],
   "source": []
  },
  {
   "cell_type": "code",
   "execution_count": null,
   "id": "4cc9c638-03b3-4814-94ef-784b6c79bf9a",
   "metadata": {},
   "outputs": [],
   "source": []
  },
  {
   "cell_type": "code",
   "execution_count": null,
   "id": "5bbf2db9-b26f-4a46-a173-a06f5a2bb2a7",
   "metadata": {},
   "outputs": [],
   "source": []
  },
  {
   "cell_type": "code",
   "execution_count": null,
   "id": "057953a3-0380-42fd-b0f7-6a5c44e4a078",
   "metadata": {},
   "outputs": [],
   "source": []
  },
  {
   "cell_type": "code",
   "execution_count": null,
   "id": "50cce06f-31a8-47d7-aacf-0dc834075da2",
   "metadata": {},
   "outputs": [],
   "source": []
  },
  {
   "cell_type": "code",
   "execution_count": null,
   "id": "00845691-ea08-4f4a-8026-ea30b8e13e2c",
   "metadata": {},
   "outputs": [],
   "source": []
  },
  {
   "cell_type": "code",
   "execution_count": null,
   "id": "4d8add13-2a07-4888-af24-3ec9c9c71115",
   "metadata": {},
   "outputs": [],
   "source": []
  },
  {
   "cell_type": "code",
   "execution_count": null,
   "id": "2a8830c5-0444-4697-b478-6da3914fcf2c",
   "metadata": {},
   "outputs": [],
   "source": []
  },
  {
   "cell_type": "code",
   "execution_count": null,
   "id": "a0002fd1-1767-4434-af8e-97a62ac82528",
   "metadata": {},
   "outputs": [],
   "source": []
  },
  {
   "cell_type": "code",
   "execution_count": null,
   "id": "db31cf08-f73a-4844-a156-3d395e24fdc8",
   "metadata": {},
   "outputs": [],
   "source": []
  },
  {
   "cell_type": "code",
   "execution_count": null,
   "id": "f70210ef-846c-4cf1-b46e-97d1aab6c822",
   "metadata": {},
   "outputs": [],
   "source": []
  },
  {
   "cell_type": "code",
   "execution_count": null,
   "id": "557c737c-d053-4a93-943e-d81b531e4373",
   "metadata": {},
   "outputs": [],
   "source": []
  },
  {
   "cell_type": "code",
   "execution_count": null,
   "id": "f87d7dec-ec4a-475d-ae00-8a6bc9ffab82",
   "metadata": {},
   "outputs": [],
   "source": []
  },
  {
   "cell_type": "code",
   "execution_count": null,
   "id": "b2392734-b4ec-4c5e-8445-5a65cc62577f",
   "metadata": {},
   "outputs": [],
   "source": []
  },
  {
   "cell_type": "code",
   "execution_count": null,
   "id": "95744d08-edaa-4aed-b47a-3ecfdb0ecd2f",
   "metadata": {},
   "outputs": [],
   "source": []
  },
  {
   "cell_type": "code",
   "execution_count": null,
   "id": "92c352fe-1c73-416b-83d8-9cc0a0b54d41",
   "metadata": {},
   "outputs": [],
   "source": []
  },
  {
   "cell_type": "code",
   "execution_count": null,
   "id": "52ad0353-455c-469a-97d3-098846d553ac",
   "metadata": {},
   "outputs": [],
   "source": []
  },
  {
   "cell_type": "code",
   "execution_count": null,
   "id": "f3f35e4a-8b22-453f-af3d-777518f96d52",
   "metadata": {},
   "outputs": [],
   "source": []
  }
 ],
 "metadata": {
  "kernelspec": {
   "display_name": "Python 3 (ipykernel)",
   "language": "python",
   "name": "python3"
  },
  "language_info": {
   "codemirror_mode": {
    "name": "ipython",
    "version": 3
   },
   "file_extension": ".py",
   "mimetype": "text/x-python",
   "name": "python",
   "nbconvert_exporter": "python",
   "pygments_lexer": "ipython3",
   "version": "3.12.4"
  }
 },
 "nbformat": 4,
 "nbformat_minor": 5
}
