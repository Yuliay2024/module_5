{
 "cells": [
  {
   "cell_type": "markdown",
   "id": "2d099e73-921f-47b7-97d6-5a7a5e284642",
   "metadata": {},
   "source": [
    "3. Сгенерировать последовательности, которые состоят из цифр (от 0 до 9) и задаются следующим образом:\n",
    "x - последовательность цифр\n",
    "y1 = x1 \n",
    "yi = xi + x1\n",
    "Если yi >= 10 то yi = yi - 10\n",
    "Научить модель рекуррентной нейронной сети предсказывать yi по xi Использовать: RNN, LSTM, GRU\n"
   ]
  },
  {
   "cell_type": "code",
   "execution_count": 2,
   "id": "5f9ce4cc-44d1-4fc4-8e28-bb4794035b85",
   "metadata": {},
   "outputs": [],
   "source": [
    "import numpy as np\n",
    "import torch\n",
    "from itertools import permutations\n",
    "import random\n",
    "import time\n",
    "import torch.nn.functional as F"
   ]
  },
  {
   "cell_type": "markdown",
   "id": "2c09698c-d5d3-4db0-9b0e-7223a90a0d9e",
   "metadata": {},
   "source": [
    "Подготовка данных\n",
    "Функция для перестановки заданного списка\n",
    "Генерируем последовательность из цифр от 0-9. Пример:"
   ]
  },
  {
   "cell_type": "markdown",
   "id": "a1d086b1-4d4a-4397-b50b-058c9e1f15b3",
   "metadata": {},
   "source": [
    "[1, 2, 3, 4, 6, 8, 0, 7, 9, 5]\n",
    "[1, 2, 3, 4, 6, 8, 0, 9, 5, 7]\n",
    "[1, 2, 3, 4, 6, 8, 0, 9, 7, 5]\n",
    "[1, 2, 3, 4, 6, 9, 5, 7, 8, 0]\n",
    "[1, 2, 3, 4, 6, 9, 5, 7, 0, 8]\n",
    "[1, 2, 3, 4, 6, 9, 5, 8, 7, 0]\n",
    "[1, 2, 3, 4, 6, 9, 5, 8, 0, 7]"
   ]
  },
  {
   "cell_type": "code",
   "execution_count": 5,
   "id": "956e94ea-1044-40d9-b956-fed49c77a541",
   "metadata": {},
   "outputs": [],
   "source": [
    "# р закоментировано, так как размер файла становится слишком больши\n",
    "def permutation(lst):\n",
    " \n",
    "    # Если lst пуст, то перестановок нет\n",
    "    if len(lst) == 0:\n",
    "        return []\n",
    " \n",
    "    # если 1 элемент, то одна перестановка возможна\n",
    "   \n",
    "    if len(lst) == 1:\n",
    "        return [lst]\n",
    " \n",
    "    # Найдите перестановки для lst, если они существую\n",
    "    # более чем 1 символ\n",
    " \n",
    "    l = [] # пустой список, в котором будет храниться текущая перестановка\n",
    " \n",
    "    # Повторите ввод (lst) и вычислите перестановку\n",
    "    for i in range(len(lst)):\n",
    "       m = lst[i]\n",
    " \n",
    "       # Extract lst[i] or m from the list.  remLst is\n",
    "       # remaining list\n",
    "       remLst = lst[:i] + lst[i+1:]\n",
    " \n",
    "       # Генерация всех перестановок, где m является первым элементом\n",
    "       \n",
    "       for p in permutation(remLst):\n",
    "           l.append([m] + p)\n",
    "    return l\n",
    " \n",
    " \n",
    "# тест функции, добавим все перестановки в список\n",
    "data = [1, 2, 3, 4, 5, 6, 7, 8, 9, 0]\n",
    "list = []\n",
    "for p in permutation(data):\n",
    "    list.append(p)\n",
    "    #print (p)"
   ]
  },
  {
   "cell_type": "code",
   "execution_count": 6,
   "id": "93ec4e8a-446c-4fba-ad9d-c7a482e05ca3",
   "metadata": {},
   "outputs": [
    {
     "data": {
      "text/plain": [
       "[[1, 2, 3, 4, 5, 6, 7, 8, 9, 0],\n",
       " [1, 2, 3, 4, 5, 6, 7, 8, 0, 9],\n",
       " [1, 2, 3, 4, 5, 6, 7, 9, 8, 0],\n",
       " [1, 2, 3, 4, 5, 6, 7, 9, 0, 8],\n",
       " [1, 2, 3, 4, 5, 6, 7, 0, 8, 9]]"
      ]
     },
     "execution_count": 6,
     "metadata": {},
     "output_type": "execute_result"
    }
   ],
   "source": [
    "list[:5]"
   ]
  },
  {
   "cell_type": "code",
   "execution_count": 7,
   "id": "0078126f-4ca9-48e0-afed-2f1355c83c85",
   "metadata": {},
   "outputs": [
    {
     "data": {
      "text/plain": [
       "3628800"
      ]
     },
     "execution_count": 7,
     "metadata": {},
     "output_type": "execute_result"
    }
   ],
   "source": [
    "#длина полученного списка\n",
    "len(list)"
   ]
  },
  {
   "cell_type": "code",
   "execution_count": 8,
   "id": "56d9f9ba-4c6e-479d-a26d-f0ff230e7368",
   "metadata": {},
   "outputs": [],
   "source": [
    "#отбираем из списка по индексу кратный 50, так как list слишком большой\n",
    "Xdata = []\n",
    "for m in range(0, len(list)):\n",
    "    if m %50==0:\n",
    "        Xdata.append(list[m])"
   ]
  },
  {
   "cell_type": "code",
   "execution_count": 9,
   "id": "28178793-b9d1-4880-af32-1235b3104e60",
   "metadata": {},
   "outputs": [
    {
     "data": {
      "text/plain": [
       "72576"
      ]
     },
     "execution_count": 9,
     "metadata": {},
     "output_type": "execute_result"
    }
   ],
   "source": [
    "len(Xdata)"
   ]
  },
  {
   "cell_type": "code",
   "execution_count": 10,
   "id": "85f21572-fbed-4fd8-b33b-3fe780b9cdb5",
   "metadata": {},
   "outputs": [
    {
     "data": {
      "text/plain": [
       "[[1, 2, 3, 4, 5, 6, 7, 8, 9, 0],\n",
       " [1, 2, 3, 4, 5, 8, 6, 9, 7, 0],\n",
       " [1, 2, 3, 4, 5, 0, 6, 9, 7, 8],\n",
       " [1, 2, 3, 4, 6, 7, 8, 5, 9, 0],\n",
       " [1, 2, 3, 4, 6, 9, 7, 8, 5, 0]]"
      ]
     },
     "execution_count": 10,
     "metadata": {},
     "output_type": "execute_result"
    }
   ],
   "source": [
    "Xdata[:5]"
   ]
  },
  {
   "cell_type": "code",
   "execution_count": 11,
   "id": "fe9f60a0-023c-4a47-83df-57fb427d16a4",
   "metadata": {},
   "outputs": [],
   "source": [
    "#функция - прописываем условия для Y\n",
    "def create_dataset(df):\n",
    "    set = []\n",
    "    ydata = []\n",
    "    set.append(df[0])\n",
    "    for i in range(1, len(df)):\n",
    "        set.append(df[i]+df[0])\n",
    "    for j in range(0, len(set)):\n",
    "        if set[j] >= 10:\n",
    "            ydata.append(set[j]-10)\n",
    "        else:\n",
    "            ydata.append(set[j]) \n",
    "    return ydata"
   ]
  },
  {
   "cell_type": "code",
   "execution_count": 12,
   "id": "63d91563-2f97-44a3-bec3-572528a5d79b",
   "metadata": {},
   "outputs": [
    {
     "data": {
      "text/plain": [
       "[1, 3, 4, 5, 6, 7, 8, 9, 0, 1]"
      ]
     },
     "execution_count": 12,
     "metadata": {},
     "output_type": "execute_result"
    }
   ],
   "source": [
    "#тест\n",
    "df = [1, 2, 3, 4, 5, 6, 7, 8, 9, 0]\n",
    "create_dataset(df)"
   ]
  },
  {
   "cell_type": "code",
   "execution_count": 13,
   "id": "77ec8bb4-83a3-409c-9c67-59feda15da11",
   "metadata": {},
   "outputs": [],
   "source": [
    "#применяем фугкцию для всех элементов списка\n",
    "Ydata=[]\n",
    "for k in Xdata:\n",
    "    Ydata.append(create_dataset(k))"
   ]
  },
  {
   "cell_type": "code",
   "execution_count": 14,
   "id": "19508c40-9702-482b-a99d-bed2f116a688",
   "metadata": {},
   "outputs": [
    {
     "data": {
      "text/plain": [
       "72576"
      ]
     },
     "execution_count": 14,
     "metadata": {},
     "output_type": "execute_result"
    }
   ],
   "source": [
    "len(Ydata)"
   ]
  },
  {
   "cell_type": "code",
   "execution_count": 15,
   "id": "9f713ab9-bf6f-473f-991e-cf26d19f628a",
   "metadata": {},
   "outputs": [
    {
     "data": {
      "text/plain": [
       "[[1, 3, 4, 5, 6, 7, 8, 9, 0, 1],\n",
       " [1, 3, 4, 5, 6, 9, 7, 0, 8, 1],\n",
       " [1, 3, 4, 5, 6, 1, 7, 0, 8, 9],\n",
       " [1, 3, 4, 5, 7, 8, 9, 6, 0, 1],\n",
       " [1, 3, 4, 5, 7, 0, 8, 9, 6, 1]]"
      ]
     },
     "execution_count": 15,
     "metadata": {},
     "output_type": "execute_result"
    }
   ],
   "source": [
    "Ydata[:5]"
   ]
  },
  {
   "cell_type": "code",
   "execution_count": null,
   "id": "9fc8fe77-d3f8-4961-9b49-f0b86a232049",
   "metadata": {},
   "outputs": [],
   "source": []
  },
  {
   "cell_type": "code",
   "execution_count": 16,
   "id": "bbb1994c-4898-4bbe-823e-f115fd6466d5",
   "metadata": {},
   "outputs": [],
   "source": [
    "# делим на train/test\n",
    "num_trn = int(0.75*len(Xdata))                \n",
    "X_trn, Y_trn = Xdata[:num_trn], Ydata[:num_trn]\n",
    "X_test, Y_test = Xdata[num_trn:], Ydata[num_trn:]"
   ]
  },
  {
   "cell_type": "code",
   "execution_count": 17,
   "id": "1ddbc6ee-b8bd-4bcb-9a79-55cee92a1c69",
   "metadata": {},
   "outputs": [
    {
     "data": {
      "text/plain": [
       "54432"
      ]
     },
     "execution_count": 17,
     "metadata": {},
     "output_type": "execute_result"
    }
   ],
   "source": [
    "len(X_trn)"
   ]
  },
  {
   "cell_type": "code",
   "execution_count": 18,
   "id": "0cd1b7b4-d6c4-433d-90d5-79519bd315f2",
   "metadata": {},
   "outputs": [
    {
     "data": {
      "text/plain": [
       "54432"
      ]
     },
     "execution_count": 18,
     "metadata": {},
     "output_type": "execute_result"
    }
   ],
   "source": [
    "len(Y_trn)"
   ]
  },
  {
   "cell_type": "code",
   "execution_count": 19,
   "id": "fa4eecbd-5e87-4898-9a21-16757444fbd4",
   "metadata": {},
   "outputs": [
    {
     "data": {
      "text/plain": [
       "18144"
      ]
     },
     "execution_count": 19,
     "metadata": {},
     "output_type": "execute_result"
    }
   ],
   "source": [
    "len(X_test)"
   ]
  },
  {
   "cell_type": "code",
   "execution_count": 20,
   "id": "addb0e2e-4a71-43b4-8b4f-72864578ccc3",
   "metadata": {},
   "outputs": [
    {
     "data": {
      "text/plain": [
       "18144"
      ]
     },
     "execution_count": 20,
     "metadata": {},
     "output_type": "execute_result"
    }
   ],
   "source": [
    "len(Y_test)"
   ]
  },
  {
   "cell_type": "markdown",
   "id": "c74b1478-6a4f-4eab-bb46-6e686e22620f",
   "metadata": {},
   "source": [
    "RNN"
   ]
  },
  {
   "cell_type": "code",
   "execution_count": 22,
   "id": "ec21a8e2-13ad-4963-8991-2fd7512e2ef0",
   "metadata": {},
   "outputs": [],
   "source": [
    "class RNNModel(torch.nn.Module):\n",
    "    \n",
    "    def __init__(self):\n",
    "        super(RNNModel, self).__init__()\n",
    "        self.rnn = torch.nn.RNN(input_size=10, hidden_size=100, batch_first=True)\n",
    "        self.linear = torch.nn.Linear(100, 10)\n",
    "\n",
    "    def forward(self, X, state=None):\n",
    "        #o -выход\n",
    "        #h - последнее скрытое состояние\n",
    "        o, h = self.rnn(X)\n",
    "        out = self.linear(o)\n",
    "        return out"
   ]
  },
  {
   "cell_type": "markdown",
   "id": "f1e1d877-b4f1-45b1-b088-a86f13d562b3",
   "metadata": {},
   "source": [
    "Применялась MSELoss, а не CrossEntropyLoss\n",
    "Так как  по типу тензоров X, Y при обучении были ошибки и не расчитывался loss, если тип int\n",
    "X_trn = torch.tensor(X_trn, dtype = torch.float32).view(len(X_trn), 1, -1)\n",
    "Y_trn = torch.tensor(Y_trn, dtype = torch.float32).view(len(Y_trn), -1)"
   ]
  },
  {
   "cell_type": "code",
   "execution_count": 24,
   "id": "04918e2c-163d-4291-996b-47107ff0e4d2",
   "metadata": {},
   "outputs": [],
   "source": [
    "model = RNNModel()\n",
    "optimizer =torch.optim.Adam(model.parameters())\n",
    "loss = torch.nn.MSELoss()\n",
    "#loss = torch.nn.CrossEntropyLoss()\n",
    "#optimizer = torch.optim.SGD(model.parameters(), lr=0.5)"
   ]
  },
  {
   "cell_type": "markdown",
   "id": "7a43f290-2b87-45e4-b623-88b9d7e67496",
   "metadata": {},
   "source": [
    "Обучаем модель"
   ]
  },
  {
   "cell_type": "code",
   "execution_count": 26,
   "id": "8913c068-bb73-4b42-b0ce-2c9b275f8801",
   "metadata": {},
   "outputs": [
    {
     "name": "stdout",
     "output_type": "stream",
     "text": [
      "Epoch: 0, loss: 28.8521 | Epoch: 1, loss: 28.0552 | Epoch: 2, loss: 27.2745 | "
     ]
    },
    {
     "name": "stderr",
     "output_type": "stream",
     "text": [
      "C:\\Users\\user\\AppData\\Local\\Temp\\ipykernel_3632\\2169003629.py:5: UserWarning: To copy construct from a tensor, it is recommended to use sourceTensor.clone().detach() or sourceTensor.clone().detach().requires_grad_(True), rather than torch.tensor(sourceTensor).\n",
      "  X_trn = torch.tensor(X_trn, dtype = torch.float32).view(len(X_trn), 1, -1)\n",
      "C:\\Users\\user\\AppData\\Local\\Temp\\ipykernel_3632\\2169003629.py:6: UserWarning: To copy construct from a tensor, it is recommended to use sourceTensor.clone().detach() or sourceTensor.clone().detach().requires_grad_(True), rather than torch.tensor(sourceTensor).\n",
      "  Y_trn = torch.tensor(Y_trn, dtype = torch.float32).view(len(Y_trn), -1)\n"
     ]
    },
    {
     "name": "stdout",
     "output_type": "stream",
     "text": [
      "Epoch: 3, loss: 26.5106 | Epoch: 4, loss: 25.7638 | Epoch: 5, loss: 25.0338 | Epoch: 6, loss: 24.3198 | Epoch: 7, loss: 23.6207 | Epoch: 8, loss: 22.9353 | Epoch: 9, loss: 22.2626 | Epoch: 10, loss: 21.6016 | Epoch: 11, loss: 20.9519 | Epoch: 12, loss: 20.3131 | Epoch: 13, loss: 19.6851 | Epoch: 14, loss: 19.0682 | Epoch: 15, loss: 18.4627 | Epoch: 16, loss: 17.8689 | Epoch: 17, loss: 17.2875 | Epoch: 18, loss: 16.7193 | Epoch: 19, loss: 16.1649 | Epoch: 20, loss: 15.6253 | Epoch: 21, loss: 15.1013 | Epoch: 22, loss: 14.5938 | Epoch: 23, loss: 14.1038 | Epoch: 24, loss: 13.6321 | Epoch: 25, loss: 13.1796 | Epoch: 26, loss: 12.7469 | Epoch: 27, loss: 12.3347 | Epoch: 28, loss: 11.9435 | Epoch: 29, loss: 11.5736 | Epoch: 30, loss: 11.2252 | Epoch: 31, loss: 10.8986 | Epoch: 32, loss: 10.5936 | Epoch: 33, loss: 10.3100 | Epoch: 34, loss: 10.0476 | Epoch: 35, loss: 9.8059 | Epoch: 36, loss: 9.5844 | Epoch: 37, loss: 9.3824 | Epoch: 38, loss: 9.1992 | Epoch: 39, loss: 9.0340 | Epoch: 40, loss: 8.8858 | Epoch: 41, loss: 8.7537 | Epoch: 42, loss: 8.6368 | Epoch: 43, loss: 8.5339 | Epoch: 44, loss: 8.4441 | Epoch: 45, loss: 8.3663 | Epoch: 46, loss: 8.2995 | Epoch: 47, loss: 8.2425 | Epoch: 48, loss: 8.1945 | Epoch: 49, loss: 8.1545 | "
     ]
    }
   ],
   "source": [
    "for epoch in range(50):\n",
    "    train_loss, train_acc, iter_num = .0, .0, .0\n",
    "    start_epoch_time = time.time()\n",
    "    model.train()\n",
    "    X_trn = torch.tensor(X_trn, dtype = torch.float32).view(len(X_trn), 1, -1)\n",
    "    Y_trn = torch.tensor(Y_trn, dtype = torch.float32).view(len(Y_trn), -1)\n",
    "    #print(X_trn.shape)\n",
    "    #print(Y_trn.shape)\n",
    "    optimizer.zero_grad() \n",
    "    out = model.forward(X_trn) \n",
    "    #print(out.shape)\n",
    "    out = out.view(len(Y_trn), -1)\n",
    "    #print(out.shape)\n",
    "    #print(Y_trn.shape)\n",
    "    l = loss(out, Y_trn)\n",
    "    train_loss += l.item()\n",
    "    l.backward()\n",
    "    optimizer.step()\n",
    "    print(f\"Epoch: {epoch}, loss: {train_loss:.4f}\",end=\" | \")"
   ]
  },
  {
   "cell_type": "markdown",
   "id": "a03e2fb4-21ba-4763-8887-6b9b981492d0",
   "metadata": {},
   "source": [
    "Проверка на тестовый данных"
   ]
  },
  {
   "cell_type": "code",
   "execution_count": 28,
   "id": "6827f6bb-6539-4ece-86f2-e51786deb728",
   "metadata": {},
   "outputs": [
    {
     "name": "stdout",
     "output_type": "stream",
     "text": [
      "Epoch: 0, loss: 9.2253 | Epoch: 1, loss: 9.1901 | Epoch: 2, loss: 9.1422 | Epoch: 3, loss: 9.0779 | Epoch: 4, loss: 8.9977 | Epoch: 5, loss: 8.9052 | Epoch: 6, loss: 8.8052 | "
     ]
    },
    {
     "name": "stderr",
     "output_type": "stream",
     "text": [
      "C:\\Users\\user\\AppData\\Local\\Temp\\ipykernel_3632\\3419201947.py:5: UserWarning: To copy construct from a tensor, it is recommended to use sourceTensor.clone().detach() or sourceTensor.clone().detach().requires_grad_(True), rather than torch.tensor(sourceTensor).\n",
      "  X_test = torch.tensor(X_test, dtype = torch.float32).view(len(X_test), 1, -1)\n",
      "C:\\Users\\user\\AppData\\Local\\Temp\\ipykernel_3632\\3419201947.py:6: UserWarning: To copy construct from a tensor, it is recommended to use sourceTensor.clone().detach() or sourceTensor.clone().detach().requires_grad_(True), rather than torch.tensor(sourceTensor).\n",
      "  Y_test = torch.tensor(Y_test, dtype = torch.float32).view(len(Y_test), -1)\n"
     ]
    },
    {
     "name": "stdout",
     "output_type": "stream",
     "text": [
      "Epoch: 7, loss: 8.7029 | Epoch: 8, loss: 8.6034 | Epoch: 9, loss: 8.5108 | Epoch: 10, loss: 8.4288 | Epoch: 11, loss: 8.3601 | Epoch: 12, loss: 8.3069 | Epoch: 13, loss: 8.2707 | Epoch: 14, loss: 8.2526 | Epoch: 15, loss: 8.2529 | Epoch: 16, loss: 8.2719 | Epoch: 17, loss: 8.3090 | Epoch: 18, loss: 8.3634 | Epoch: 19, loss: 8.4337 | Epoch: 20, loss: 8.5176 | Epoch: 21, loss: 8.6125 | Epoch: 22, loss: 8.7152 | Epoch: 23, loss: 8.8220 | Epoch: 24, loss: 8.9294 | Epoch: 25, loss: 9.0340 | Epoch: 26, loss: 9.1327 | Epoch: 27, loss: 9.2228 | Epoch: 28, loss: 9.3018 | Epoch: 29, loss: 9.3670 | Epoch: 30, loss: 9.4161 | Epoch: 31, loss: 9.4469 | Epoch: 32, loss: 9.4579 | Epoch: 33, loss: 9.4480 | Epoch: 34, loss: 9.4172 | Epoch: 35, loss: 9.3666 | Epoch: 36, loss: 9.2984 | Epoch: 37, loss: 9.2163 | Epoch: 38, loss: 9.1250 | Epoch: 39, loss: 9.0297 | Epoch: 40, loss: 8.9361 | Epoch: 41, loss: 8.8493 | Epoch: 42, loss: 8.7739 | Epoch: 43, loss: 8.7133 | Epoch: 44, loss: 8.6696 | Epoch: 45, loss: 8.6435 | Epoch: 46, loss: 8.6341 | Epoch: 47, loss: 8.6391 | Epoch: 48, loss: 8.6552 | Epoch: 49, loss: 8.6783 | "
     ]
    }
   ],
   "source": [
    "for epoch in range(50):\n",
    "    test_loss = .0\n",
    "    start_epoch_time = time.time()\n",
    "    model.eval()\n",
    "    X_test = torch.tensor(X_test, dtype = torch.float32).view(len(X_test), 1, -1)\n",
    "    Y_test = torch.tensor(Y_test, dtype = torch.float32).view(len(Y_test), -1)\n",
    "    out = model.forward(X_test) \n",
    "    out = out.view(len(Y_test), -1)\n",
    "    l = loss(out, Y_test)\n",
    "    test_loss += l.item()\n",
    "    l.backward()\n",
    "    optimizer.step()\n",
    "    print(f\"Epoch: {epoch}, loss: {test_loss:.4f}\",end=\" | \")"
   ]
  },
  {
   "cell_type": "code",
   "execution_count": null,
   "id": "925ad77d-0da0-40e9-a1fa-590e4e779038",
   "metadata": {},
   "outputs": [],
   "source": []
  },
  {
   "cell_type": "markdown",
   "id": "70030dd7-7dd3-4c09-bbff-a6e7ca34b62d",
   "metadata": {},
   "source": [
    "Результаты неудовлетворительные по всем моделям (RNN/LSTM/GRU). Возможно некорректные данные для обучения или ошибки в модели"
   ]
  }
 ],
 "metadata": {
  "kernelspec": {
   "display_name": "Python 3 (ipykernel)",
   "language": "python",
   "name": "python3"
  },
  "language_info": {
   "codemirror_mode": {
    "name": "ipython",
    "version": 3
   },
   "file_extension": ".py",
   "mimetype": "text/x-python",
   "name": "python",
   "nbconvert_exporter": "python",
   "pygments_lexer": "ipython3",
   "version": "3.12.4"
  }
 },
 "nbformat": 4,
 "nbformat_minor": 5
}
